{
 "cells": [
  {
   "cell_type": "markdown",
   "metadata": {},
   "source": [
    "# Clustering \n",
    "1. Hierarchical clustering\n",
    "2. K-means clustering\n",
    "3. DBScanner clustering"
   ]
  },
  {
   "cell_type": "markdown",
   "metadata": {},
   "source": [
    "#### Importing necessary libraries"
   ]
  },
  {
   "cell_type": "code",
   "execution_count": 5,
   "metadata": {},
   "outputs": [],
   "source": [
    "import pandas as pd\n",
    "import numpy as np\n",
    "from sklearn.preprocessing import StandardScaler\n",
    "from sklearn.cluster import AgglomerativeClustering\n",
    "from sklearn.metrics import silhouette_score\n",
    "from sklearn.cluster import MeanShift, DBSCAN, estimate_bandwidth #\n",
    "from sklearn.neighbors import NearestNeighbors #\n",
    "from sklearn.mixture import GaussianMixture #\n",
    "from scipy.cluster.hierarchy import dendrogram, linkage, fcluster\n",
    "import matplotlib.pyplot as plt\n",
    "import seaborn as sns \n"
   ]
  },
  {
   "cell_type": "code",
   "execution_count": 6,
   "metadata": {},
   "outputs": [],
   "source": [
    "df = pd.read_csv('Processed_Data.csv')"
   ]
  },
  {
   "cell_type": "code",
   "execution_count": 7,
   "metadata": {},
   "outputs": [
    {
     "data": {
      "text/html": [
       "<div>\n",
       "<style scoped>\n",
       "    .dataframe tbody tr th:only-of-type {\n",
       "        vertical-align: middle;\n",
       "    }\n",
       "\n",
       "    .dataframe tbody tr th {\n",
       "        vertical-align: top;\n",
       "    }\n",
       "\n",
       "    .dataframe thead th {\n",
       "        text-align: right;\n",
       "    }\n",
       "</style>\n",
       "<table border=\"1\" class=\"dataframe\">\n",
       "  <thead>\n",
       "    <tr style=\"text-align: right;\">\n",
       "      <th></th>\n",
       "      <th>customer_id</th>\n",
       "      <th>customer_region</th>\n",
       "      <th>customer_age</th>\n",
       "      <th>vendor_count</th>\n",
       "      <th>product_count</th>\n",
       "      <th>is_chain</th>\n",
       "      <th>first_order</th>\n",
       "      <th>last_order</th>\n",
       "      <th>last_promo</th>\n",
       "      <th>payment_method</th>\n",
       "      <th>...</th>\n",
       "      <th>HR_22</th>\n",
       "      <th>HR_23</th>\n",
       "      <th>customer_city</th>\n",
       "      <th>chain_category</th>\n",
       "      <th>engagement_duration</th>\n",
       "      <th>avg_order_frequency</th>\n",
       "      <th>tot_value_cui</th>\n",
       "      <th>preferred_order_day</th>\n",
       "      <th>preferred_order_hour</th>\n",
       "      <th>age_category</th>\n",
       "    </tr>\n",
       "  </thead>\n",
       "  <tbody>\n",
       "    <tr>\n",
       "      <th>0</th>\n",
       "      <td>1b8f824d5e</td>\n",
       "      <td>2360</td>\n",
       "      <td>18</td>\n",
       "      <td>2.0</td>\n",
       "      <td>5.0</td>\n",
       "      <td>1.0</td>\n",
       "      <td>0.0</td>\n",
       "      <td>1.0</td>\n",
       "      <td>DELIVERY</td>\n",
       "      <td>DIGI</td>\n",
       "      <td>...</td>\n",
       "      <td>0.0</td>\n",
       "      <td>0.0</td>\n",
       "      <td>2</td>\n",
       "      <td>Large Chain</td>\n",
       "      <td>1</td>\n",
       "      <td>5.0</td>\n",
       "      <td>28.88</td>\n",
       "      <td>0</td>\n",
       "      <td>18</td>\n",
       "      <td>26</td>\n",
       "    </tr>\n",
       "    <tr>\n",
       "      <th>1</th>\n",
       "      <td>5d272b9dcb</td>\n",
       "      <td>8670</td>\n",
       "      <td>17</td>\n",
       "      <td>2.0</td>\n",
       "      <td>2.0</td>\n",
       "      <td>2.0</td>\n",
       "      <td>0.0</td>\n",
       "      <td>1.0</td>\n",
       "      <td>DISCOUNT</td>\n",
       "      <td>DIGI</td>\n",
       "      <td>...</td>\n",
       "      <td>0.0</td>\n",
       "      <td>0.0</td>\n",
       "      <td>8</td>\n",
       "      <td>Large Chain</td>\n",
       "      <td>1</td>\n",
       "      <td>2.0</td>\n",
       "      <td>19.21</td>\n",
       "      <td>0</td>\n",
       "      <td>10</td>\n",
       "      <td>16</td>\n",
       "    </tr>\n",
       "    <tr>\n",
       "      <th>2</th>\n",
       "      <td>f6d1b2ba63</td>\n",
       "      <td>4660</td>\n",
       "      <td>38</td>\n",
       "      <td>1.0</td>\n",
       "      <td>2.0</td>\n",
       "      <td>2.0</td>\n",
       "      <td>0.0</td>\n",
       "      <td>1.0</td>\n",
       "      <td>DISCOUNT</td>\n",
       "      <td>CASH</td>\n",
       "      <td>...</td>\n",
       "      <td>0.0</td>\n",
       "      <td>0.0</td>\n",
       "      <td>4</td>\n",
       "      <td>Large Chain</td>\n",
       "      <td>1</td>\n",
       "      <td>2.0</td>\n",
       "      <td>9.20</td>\n",
       "      <td>0</td>\n",
       "      <td>9</td>\n",
       "      <td>42</td>\n",
       "    </tr>\n",
       "    <tr>\n",
       "      <th>3</th>\n",
       "      <td>180c632ed8</td>\n",
       "      <td>4660</td>\n",
       "      <td>24</td>\n",
       "      <td>2.0</td>\n",
       "      <td>3.0</td>\n",
       "      <td>1.0</td>\n",
       "      <td>0.0</td>\n",
       "      <td>2.0</td>\n",
       "      <td>DELIVERY</td>\n",
       "      <td>DIGI</td>\n",
       "      <td>...</td>\n",
       "      <td>0.0</td>\n",
       "      <td>0.0</td>\n",
       "      <td>4</td>\n",
       "      <td>Large Chain</td>\n",
       "      <td>2</td>\n",
       "      <td>1.5</td>\n",
       "      <td>31.56</td>\n",
       "      <td>1</td>\n",
       "      <td>11</td>\n",
       "      <td>26</td>\n",
       "    </tr>\n",
       "    <tr>\n",
       "      <th>4</th>\n",
       "      <td>4eb37a6705</td>\n",
       "      <td>4660</td>\n",
       "      <td>20</td>\n",
       "      <td>2.0</td>\n",
       "      <td>5.0</td>\n",
       "      <td>0.0</td>\n",
       "      <td>0.0</td>\n",
       "      <td>2.0</td>\n",
       "      <td>No promo</td>\n",
       "      <td>DIGI</td>\n",
       "      <td>...</td>\n",
       "      <td>0.0</td>\n",
       "      <td>0.0</td>\n",
       "      <td>4</td>\n",
       "      <td>Non-Chain</td>\n",
       "      <td>2</td>\n",
       "      <td>2.5</td>\n",
       "      <td>55.44</td>\n",
       "      <td>1</td>\n",
       "      <td>8</td>\n",
       "      <td>26</td>\n",
       "    </tr>\n",
       "  </tbody>\n",
       "</table>\n",
       "<p>5 rows × 64 columns</p>\n",
       "</div>"
      ],
      "text/plain": [
       "  customer_id  customer_region  customer_age  vendor_count  product_count  \\\n",
       "0  1b8f824d5e             2360            18           2.0            5.0   \n",
       "1  5d272b9dcb             8670            17           2.0            2.0   \n",
       "2  f6d1b2ba63             4660            38           1.0            2.0   \n",
       "3  180c632ed8             4660            24           2.0            3.0   \n",
       "4  4eb37a6705             4660            20           2.0            5.0   \n",
       "\n",
       "   is_chain  first_order  last_order last_promo payment_method  ...  HR_22  \\\n",
       "0       1.0          0.0         1.0   DELIVERY           DIGI  ...    0.0   \n",
       "1       2.0          0.0         1.0   DISCOUNT           DIGI  ...    0.0   \n",
       "2       2.0          0.0         1.0   DISCOUNT           CASH  ...    0.0   \n",
       "3       1.0          0.0         2.0   DELIVERY           DIGI  ...    0.0   \n",
       "4       0.0          0.0         2.0   No promo           DIGI  ...    0.0   \n",
       "\n",
       "   HR_23  customer_city  chain_category  engagement_duration  \\\n",
       "0    0.0              2     Large Chain                    1   \n",
       "1    0.0              8     Large Chain                    1   \n",
       "2    0.0              4     Large Chain                    1   \n",
       "3    0.0              4     Large Chain                    2   \n",
       "4    0.0              4       Non-Chain                    2   \n",
       "\n",
       "   avg_order_frequency  tot_value_cui  preferred_order_day  \\\n",
       "0                  5.0          28.88                    0   \n",
       "1                  2.0          19.21                    0   \n",
       "2                  2.0           9.20                    0   \n",
       "3                  1.5          31.56                    1   \n",
       "4                  2.5          55.44                    1   \n",
       "\n",
       "   preferred_order_hour  age_category  \n",
       "0                    18            26  \n",
       "1                    10            16  \n",
       "2                     9            42  \n",
       "3                    11            26  \n",
       "4                     8            26  \n",
       "\n",
       "[5 rows x 64 columns]"
      ]
     },
     "execution_count": 7,
     "metadata": {},
     "output_type": "execute_result"
    }
   ],
   "source": [
    "df.head()"
   ]
  },
  {
   "cell_type": "markdown",
   "metadata": {},
   "source": [
    "### Hierarchical clustering "
   ]
  },
  {
   "cell_type": "markdown",
   "metadata": {},
   "source": [
    "#### Separate numerical and categorical features\n",
    "To handle mixed data types we have to seperate numerical and categorical features"
   ]
  },
  {
   "cell_type": "markdown",
   "metadata": {},
   "source": [
    "## Linkage Matrix"
   ]
  },
  {
   "cell_type": "code",
   "execution_count": 24,
   "metadata": {},
   "outputs": [
    {
     "ename": "ValueError",
     "evalue": "could not convert string to float: 'Processed_Data.csv'",
     "output_type": "error",
     "traceback": [
      "\u001b[0;31m---------------------------------------------------------------------------\u001b[0m",
      "\u001b[0;31mValueError\u001b[0m                                Traceback (most recent call last)",
      "Cell \u001b[0;32mIn[24], line 2\u001b[0m\n\u001b[1;32m      1\u001b[0m \u001b[38;5;66;03m# Build the linkage matrix using Euclidean distance\u001b[39;00m\n\u001b[0;32m----> 2\u001b[0m linkage_matrix \u001b[38;5;241m=\u001b[39m linkage(\u001b[38;5;124m'\u001b[39m\u001b[38;5;124mProcessed_Data.csv\u001b[39m\u001b[38;5;124m'\u001b[39m, method\u001b[38;5;241m=\u001b[39m\u001b[38;5;124m'\u001b[39m\u001b[38;5;124mward\u001b[39m\u001b[38;5;124m'\u001b[39m)\n\u001b[1;32m      4\u001b[0m \u001b[38;5;66;03m# Visualize the dendrogram\u001b[39;00m\n\u001b[1;32m      5\u001b[0m plt\u001b[38;5;241m.\u001b[39mfigure(figsize\u001b[38;5;241m=\u001b[39m(\u001b[38;5;241m10\u001b[39m, \u001b[38;5;241m8\u001b[39m))\n",
      "File \u001b[0;32m/opt/anaconda3/lib/python3.12/site-packages/scipy/cluster/hierarchy.py:1006\u001b[0m, in \u001b[0;36mlinkage\u001b[0;34m(y, method, metric, optimal_ordering)\u001b[0m\n\u001b[1;32m    800\u001b[0m \u001b[38;5;250m\u001b[39m\u001b[38;5;124;03m\"\"\"\u001b[39;00m\n\u001b[1;32m    801\u001b[0m \u001b[38;5;124;03mPerform hierarchical/agglomerative clustering.\u001b[39;00m\n\u001b[1;32m    802\u001b[0m \n\u001b[0;32m   (...)\u001b[0m\n\u001b[1;32m   1003\u001b[0m \u001b[38;5;124;03m>>> plt.show()\u001b[39;00m\n\u001b[1;32m   1004\u001b[0m \u001b[38;5;124;03m\"\"\"\u001b[39;00m\n\u001b[1;32m   1005\u001b[0m xp \u001b[38;5;241m=\u001b[39m array_namespace(y)\n\u001b[0;32m-> 1006\u001b[0m y \u001b[38;5;241m=\u001b[39m _asarray(y, order\u001b[38;5;241m=\u001b[39m\u001b[38;5;124m'\u001b[39m\u001b[38;5;124mC\u001b[39m\u001b[38;5;124m'\u001b[39m, dtype\u001b[38;5;241m=\u001b[39mxp\u001b[38;5;241m.\u001b[39mfloat64, xp\u001b[38;5;241m=\u001b[39mxp)\n\u001b[1;32m   1008\u001b[0m \u001b[38;5;28;01mif\u001b[39;00m method \u001b[38;5;129;01mnot\u001b[39;00m \u001b[38;5;129;01min\u001b[39;00m _LINKAGE_METHODS:\n\u001b[1;32m   1009\u001b[0m     \u001b[38;5;28;01mraise\u001b[39;00m \u001b[38;5;167;01mValueError\u001b[39;00m(\u001b[38;5;124mf\u001b[39m\u001b[38;5;124m\"\u001b[39m\u001b[38;5;124mInvalid method: \u001b[39m\u001b[38;5;132;01m{\u001b[39;00mmethod\u001b[38;5;132;01m}\u001b[39;00m\u001b[38;5;124m\"\u001b[39m)\n",
      "File \u001b[0;32m/opt/anaconda3/lib/python3.12/site-packages/scipy/_lib/_array_api.py:142\u001b[0m, in \u001b[0;36m_asarray\u001b[0;34m(array, dtype, order, copy, xp, check_finite)\u001b[0m\n\u001b[1;32m    140\u001b[0m     array \u001b[38;5;241m=\u001b[39m np\u001b[38;5;241m.\u001b[39marray(array, order\u001b[38;5;241m=\u001b[39morder, dtype\u001b[38;5;241m=\u001b[39mdtype)\n\u001b[1;32m    141\u001b[0m \u001b[38;5;28;01melse\u001b[39;00m:\n\u001b[0;32m--> 142\u001b[0m     array \u001b[38;5;241m=\u001b[39m np\u001b[38;5;241m.\u001b[39masarray(array, order\u001b[38;5;241m=\u001b[39morder, dtype\u001b[38;5;241m=\u001b[39mdtype)\n\u001b[1;32m    144\u001b[0m \u001b[38;5;66;03m# At this point array is a NumPy ndarray. We convert it to an array\u001b[39;00m\n\u001b[1;32m    145\u001b[0m \u001b[38;5;66;03m# container that is consistent with the input's namespace.\u001b[39;00m\n\u001b[1;32m    146\u001b[0m array \u001b[38;5;241m=\u001b[39m xp\u001b[38;5;241m.\u001b[39masarray(array)\n",
      "\u001b[0;31mValueError\u001b[0m: could not convert string to float: 'Processed_Data.csv'"
     ]
    }
   ],
   "source": [
    "# Build the linkage matrix using Euclidean distance\n",
    "linkage_matrix = linkage('Processed_Data.csv', method='ward')\n",
    "\n",
    "# Visualize the dendrogram\n",
    "plt.figure(figsize=(10, 8))\n",
    "dendrogram(linkage_matrix, truncate_mode='level', p=5)  # Show the top 5 levels\n",
    "plt.title(\"Dendrogram - Hierarchical Clustering\")\n",
    "plt.xlabel(\"Samples\")\n",
    "plt.ylabel(\"Distance\")\n",
    "plt.show()\n"
   ]
  },
  {
   "cell_type": "markdown",
   "metadata": {},
   "source": [
    "### Observations from the Dendrogram\n",
    "\n",
    "1. **Number of Clusters**:\n",
    "   - There is a significant jump at the 600,000 distance mark, suggesting that **2 main clusters** could be formed.\n",
    "   - If more granularity is needed, cutting at a lower distance (e.g., 200,000) could result in **4 smaller clusters**.\n",
    "\n",
    "2. **Cluster Compactness**:\n",
    "   - The smaller branches at the bottom of the dendrogram indicate **tight, similar groups** within clusters.\n",
    "   - The larger distances between the green and orange branches show **clear separation** between the two main clusters.\n",
    "\n",
    "3. **Hierarchical Relationships**:\n",
    "   - The hierarchy reveals **subgroups within each main cluster**, which could be further explored if additional detail is required.\n",
    "\n",
    "### Conclusion\n",
    "- Start with **2 clusters** for broader analysis.\n",
    "- Explore **4 clusters** for more detailed segmentation if necessary.\n"
   ]
  },
  {
   "cell_type": "markdown",
   "metadata": {},
   "source": [
    "#### Decide the number oof clusters based on the dendrogram above"
   ]
  },
  {
   "cell_type": "code",
   "execution_count": 14,
   "metadata": {},
   "outputs": [],
   "source": [
    "# Decide the number of clusters (e.g., 4)\n",
    "num_clusters = 4\n",
    "\n",
    "# Generate cluster labels\n",
    "clusters = fcluster(linkage_matrix, t=num_clusters, criterion='maxclust')\n",
    "\n",
    "# Add cluster labels to the original dataset\n",
    "df['cluster'] = clusters\n"
   ]
  },
  {
   "cell_type": "markdown",
   "metadata": {},
   "source": [
    "### analyze clusters"
   ]
  },
  {
   "cell_type": "code",
   "execution_count": 15,
   "metadata": {},
   "outputs": [
    {
     "name": "stdout",
     "output_type": "stream",
     "text": [
      "Cluster Profiles - Numerical Features:\n",
      "         customer_age  vendor_count  product_count     DOW_0     DOW_1  \\\n",
      "cluster                                                                  \n",
      "1           27.507609      2.867986       4.817664  0.485482  0.481468   \n",
      "2           27.484150      3.685135       6.581854  0.658641  0.676118   \n",
      "3           27.672112      1.803967       4.192532  0.347725  0.355893   \n",
      "4           27.519476      2.824607       5.726178  0.537906  0.560838   \n",
      "\n",
      "            DOW_2     DOW_3     DOW_4     DOW_5     DOW_6  ...  CUI_Chinese  \\\n",
      "cluster                                                    ...                \n",
      "1        0.491551  0.490430  0.487816  0.518252  0.539632  ...     1.142122   \n",
      "2        0.695082  0.718323  0.766385  0.765362  0.847355  ...     2.593849   \n",
      "3        0.415403  0.423571  0.596266  0.480747  0.581097  ...     0.217316   \n",
      "4        0.600838  0.670157  0.798639  0.692880  0.739267  ...     0.556768   \n",
      "\n",
      "         CUI_Desserts  CUI_Healthy  CUI_Indian  CUI_Italian  CUI_Japanese  \\\n",
      "cluster                                                                     \n",
      "1            2.213519     1.094438    0.000000     0.000000      3.495331   \n",
      "2            0.415779     0.444057    1.818954     0.729992      1.658365   \n",
      "3            0.000000     0.310653    2.066826    13.848973      1.258121   \n",
      "4            0.001979     1.417235    3.212193     8.731509      4.098717   \n",
      "\n",
      "         CUI_Noodle Dishes  CUI_OTHER  CUI_Street Food / Snacks  CUI_Thai  \n",
      "cluster                                                                    \n",
      "1                 0.000000   0.094997                 10.691872  0.000000  \n",
      "2                 2.109689   4.024801                  0.374208  0.722718  \n",
      "3                 0.000000   2.693442                  1.782392  0.911015  \n",
      "4                 0.000000   5.135148                  0.478555  1.914660  \n",
      "\n",
      "[4 rows x 49 columns]\n"
     ]
    }
   ],
   "source": [
    "# Analyze numerical features by cluster\n",
    "cluster_profiles_numerical = df.groupby('cluster')[numerical_features].mean()\n",
    "\n",
    "print(\"Cluster Profiles - Numerical Features:\")\n",
    "print(cluster_profiles_numerical)\n"
   ]
  },
  {
   "cell_type": "code",
   "execution_count": 16,
   "metadata": {},
   "outputs": [
    {
     "name": "stdout",
     "output_type": "stream",
     "text": [
      "\n",
      "Cluster Profiles for Categorical Feature: customer_region\n",
      "customer_region      2360      2440      2490  4140  4660      8370      8550  \\\n",
      "cluster                                                                         \n",
      "1                     NaN       NaN       NaN   NaN   NaN  0.046214  0.001214   \n",
      "2                0.820768  0.137864  0.041368   NaN   NaN       NaN       NaN   \n",
      "3                     NaN       NaN       NaN   1.0   NaN       NaN       NaN   \n",
      "4                     NaN       NaN       NaN   NaN   1.0       NaN       NaN   \n",
      "\n",
      "customer_region      8670  \n",
      "cluster                    \n",
      "1                0.952572  \n",
      "2                     NaN  \n",
      "3                     NaN  \n",
      "4                     NaN  \n",
      "\n",
      "Cluster Profiles for Categorical Feature: is_chain\n",
      "is_chain      0.0       1.0       2.0       3.0       4.0       5.0   \\\n",
      "cluster                                                                \n",
      "1         0.236953  0.332275  0.195407  0.105312  0.050509  0.028475   \n",
      "2         0.039509  0.212699  0.202101  0.153203  0.095659  0.066004   \n",
      "3         0.606768  0.201867  0.093349  0.038506  0.022170  0.010502   \n",
      "4         0.273927  0.264188  0.161780  0.092880  0.060314  0.037277   \n",
      "\n",
      "is_chain      6.0       7.0       8.0       9.0   ...      56.0      61.0  \\\n",
      "cluster                                           ...                       \n",
      "1         0.017459  0.011577  0.007282  0.005042  ...       NaN       NaN   \n",
      "2         0.045645  0.034861  0.026030  0.020359  ...  0.000093  0.000093   \n",
      "3         0.005834  0.004667  0.003501  0.001167  ...       NaN       NaN   \n",
      "4         0.027539  0.018429  0.014555  0.010366  ...       NaN       NaN   \n",
      "\n",
      "is_chain      63.0      65.0      67.0      73.0      75.0      80.0  \\\n",
      "cluster                                                                \n",
      "1              NaN       NaN       NaN       NaN       NaN       NaN   \n",
      "2         0.000093  0.000093  0.000093  0.000093  0.000093  0.000093   \n",
      "3              NaN       NaN       NaN       NaN       NaN       NaN   \n",
      "4              NaN       NaN       NaN       NaN       NaN       NaN   \n",
      "\n",
      "is_chain      81.0      83.0  \n",
      "cluster                       \n",
      "1              NaN       NaN  \n",
      "2         0.000093  0.000093  \n",
      "3              NaN       NaN  \n",
      "4              NaN       NaN  \n",
      "\n",
      "[4 rows x 60 columns]\n"
     ]
    }
   ],
   "source": [
    "# Analyze categorical features by cluster\n",
    "categorical_cluster_profiles = {}\n",
    "for feature in categorical_features:\n",
    "    proportions = df.groupby('cluster')[feature].value_counts(normalize=True).unstack()\n",
    "    categorical_cluster_profiles[feature] = proportions\n",
    "\n",
    "# Display cluster profiles for categorical features\n",
    "for feature, profile in categorical_cluster_profiles.items():\n",
    "    print(f\"\\nCluster Profiles for Categorical Feature: {feature}\")\n",
    "    print(profile)\n"
   ]
  },
  {
   "cell_type": "code",
   "execution_count": 17,
   "metadata": {},
   "outputs": [
    {
     "data": {
      "image/png": "[encoded data removed]",
      "text/plain": [
       "<Figure size 1000x600 with 1 Axes>"
      ]
     },
     "metadata": {},
     "output_type": "display_data"
    }
   ],
   "source": [
    "# Distribution of customers across clusters\n",
    "df['cluster'].value_counts().plot(kind='bar', figsize=(10, 6))\n",
    "plt.title(\"Number of Customers per Cluster\")\n",
    "plt.xlabel(\"Cluster\")\n",
    "plt.ylabel(\"Number of Customers\")\n",
    "plt.show()\n"
   ]
  },
  {
   "cell_type": "code",
   "execution_count": 18,
   "metadata": {},
   "outputs": [
    {
     "data": {
      "image/png": "[encoded data removed]",
      "text/plain": [
       "<Figure size 640x480 with 1 Axes>"
      ]
     },
     "metadata": {},
     "output_type": "display_data"
    }
   ],
   "source": [
    "# Boxplot for customer age by cluster\n",
    "sns.boxplot(x='cluster', y='customer_age', data=df)\n",
    "plt.title(\"Customer Age Distribution by Cluster\")\n",
    "plt.xlabel(\"Cluster\")\n",
    "plt.ylabel(\"Customer Age\")\n",
    "plt.show()\n"
   ]
  },
  {
   "cell_type": "code",
   "execution_count": null,
   "metadata": {},
   "outputs": [],
   "source": []
  },
  {
   "cell_type": "markdown",
   "metadata": {},
   "source": [
    "### 2. K-Means ###"
   ]
  },
  {
   "cell_type": "markdown",
   "metadata": {},
   "source": [
    "### 3. DBSCAN (Density-based spatial clustering of applications with noise)\n",
    "### Testeeeeeee"
   ]
  },
  {
   "cell_type": "code",
   "execution_count": 19,
   "metadata": {},
   "outputs": [],
   "source": [
    "# Splitting feature names into groups\n",
    "# Remember which metric_features we decided to keep?\n",
    "metric_features = df.select_dtypes(include=['number']).columns.tolist()\n",
    "\n",
    "# Identify non-metric (categorical) features\n",
    "non_metric_features = df.select_dtypes(exclude=['number']).columns.tolist()\n",
    "pc_features = df.columns[df.columns.str.startswith('PC')].tolist()  \n",
    "\n",
    "unused_features = [i for i in df.columns if i not in (metric_features+non_metric_features+pc_features) ]"
   ]
  },
  {
   "cell_type": "code",
   "execution_count": 20,
   "metadata": {},
   "outputs": [
    {
     "name": "stdout",
     "output_type": "stream",
     "text": [
      "metric_features: ['customer_region', 'customer_age', 'vendor_count', 'product_count', 'is_chain', 'first_order', 'last_order', 'CUI_American', 'CUI_Asian', 'CUI_Beverages', 'CUI_Cafe', 'CUI_Chicken Dishes', 'CUI_Chinese', 'CUI_Desserts', 'CUI_Healthy', 'CUI_Indian', 'CUI_Italian', 'CUI_Japanese', 'CUI_Noodle Dishes', 'CUI_OTHER', 'CUI_Street Food / Snacks', 'CUI_Thai', 'DOW_0', 'DOW_1', 'DOW_2', 'DOW_3', 'DOW_4', 'DOW_5', 'DOW_6', 'HR_0', 'HR_1', 'HR_2', 'HR_3', 'HR_4', 'HR_5', 'HR_6', 'HR_7', 'HR_8', 'HR_9', 'HR_10', 'HR_11', 'HR_12', 'HR_13', 'HR_14', 'HR_15', 'HR_16', 'HR_17', 'HR_18', 'HR_19', 'HR_20', 'HR_21', 'HR_22', 'HR_23', 'customer_city', 'engagement_duration', 'avg_order_frequency', 'tot_value_cui', 'preferred_order_day', 'preferred_order_hour', 'age_category', 'cluster']\n",
      "\n",
      "non_metric_features: ['customer_id', 'last_promo', 'payment_method', 'chain_category']\n",
      "\n",
      "unused_features: []\n",
      "\n",
      "pc_features: []\n"
     ]
    }
   ],
   "source": [
    "print('metric_features:', metric_features)\n",
    "print('\\nnon_metric_features:', non_metric_features)\n",
    "print('\\nunused_features:', unused_features)\n",
    "print('\\npc_features:', pc_features)"
   ]
  },
  {
   "cell_type": "code",
   "execution_count": 21,
   "metadata": {},
   "outputs": [
    {
     "name": "stdout",
     "output_type": "stream",
     "text": [
      "avg_order_frequency    156\n",
      "dtype: int64\n"
     ]
    }
   ],
   "source": [
    "# Display only columns with missing values\n",
    "missing_values_all = df.isnull().sum()\n",
    "missing_values = missing_values_all[missing_values_all > 0]\n",
    "\n",
    "# Display the columns with missing values\n",
    "print(missing_values)"
   ]
  },
  {
   "cell_type": "code",
   "execution_count": 22,
   "metadata": {},
   "outputs": [
    {
     "data": {
      "image/png": "[encoded data removed]",
      "text/plain": [
       "<Figure size 640x480 with 1 Axes>"
      ]
     },
     "metadata": {},
     "output_type": "display_data"
    }
   ],
   "source": [
    "from sklearn.neighbors import NearestNeighbors\n",
    "import matplotlib.pyplot as plt\n",
    "import numpy as np\n",
    "\n",
    "# Excluir a feature \"avg_order_frequency\" das metric features\n",
    "features_for_distance = [feature for feature in metric_features if feature != \"avg_order_frequency\"]\n",
    "\n",
    "# Calcular as distâncias dos k-vizinhos mais próximos\n",
    "neigh = NearestNeighbors(n_neighbors=20)\n",
    "neigh.fit(df[features_for_distance])\n",
    "distances, _ = neigh.kneighbors(df[features_for_distance])\n",
    "\n",
    "# Ordenar as distâncias\n",
    "distances = np.sort(distances[:, -1])\n",
    "\n",
    "# Plotar o gráfico das distâncias\n",
    "plt.plot(distances)\n",
    "plt.xlabel('Pontos de dados')\n",
    "plt.ylabel('Distância do 20º vizinho mais próximo')\n",
    "plt.title('Gráfico de distâncias dos k-vizinhos mais próximos (sem \"avg_order_frequency\")')\n",
    "\n",
    "# Alterar os limites do eixo y para 0 a 160\n",
    "plt.ylim(0, 160)\n",
    "\n",
    "plt.show()\n"
   ]
  },
  {
   "cell_type": "code",
   "execution_count": 23,
   "metadata": {},
   "outputs": [
    {
     "ename": "NameError",
     "evalue": "name 'dbscan_labels' is not defined",
     "output_type": "error",
     "traceback": [
      "\u001b[0;31m---------------------------------------------------------------------------\u001b[0m",
      "\u001b[0;31mNameError\u001b[0m                                 Traceback (most recent call last)",
      "Cell \u001b[0;32mIn[23], line 2\u001b[0m\n\u001b[1;32m      1\u001b[0m \u001b[38;5;66;03m# Concatenating the labels to df\u001b[39;00m\n\u001b[0;32m----> 2\u001b[0m df_concat \u001b[38;5;241m=\u001b[39m pd\u001b[38;5;241m.\u001b[39mconcat([df[metric_features], pd\u001b[38;5;241m.\u001b[39mSeries(dbscan_labels, index\u001b[38;5;241m=\u001b[39mdf\u001b[38;5;241m.\u001b[39mindex, name\u001b[38;5;241m=\u001b[39m\u001b[38;5;124m\"\u001b[39m\u001b[38;5;124mdbscan_labels\u001b[39m\u001b[38;5;124m\"\u001b[39m)], axis\u001b[38;5;241m=\u001b[39m\u001b[38;5;241m1\u001b[39m)\n\u001b[1;32m      3\u001b[0m df_concat\u001b[38;5;241m.\u001b[39mhead()\n",
      "\u001b[0;31mNameError\u001b[0m: name 'dbscan_labels' is not defined"
     ]
    }
   ],
   "source": [
    "# Concatenating the labels to df\n",
    "df_concat = pd.concat([df[metric_features], pd.Series(dbscan_labels, index=df.index, name=\"dbscan_labels\")], axis=1)\n",
    "df_concat.head()"
   ]
  },
  {
   "cell_type": "code",
   "execution_count": 88,
   "metadata": {},
   "outputs": [
    {
     "name": "stdout",
     "output_type": "stream",
     "text": [
      "Number of estimated clusters : 8\n"
     ]
    }
   ],
   "source": [
    "# Excluir a feature \"total_value_cui\" ao selecionar as features para o clustering\n",
    "features_for_clustering = [feature for feature in metric_features if feature != \"avg_order_frequency\"]\n",
    "\n",
    "# Perform DBSCAN clustering\n",
    "dbscan = DBSCAN(eps=40, min_samples=25, n_jobs=4)\n",
    "dbscan_labels = dbscan.fit_predict(df[features_for_clustering])\n",
    "\n",
    "dbscan_n_clusters = len(np.unique(dbscan_labels))\n",
    "print(\"Number of estimated clusters : %d\" % dbscan_n_clusters)\n",
    "\n",
    "#usei o eps=40 por causa do grafico\n",
    "#usei min_samples=25 porque deve ser 2xdim e deve ser mais ou menos isso\n"
   ]
  },
  {
   "cell_type": "code",
   "execution_count": 89,
   "metadata": {},
   "outputs": [
    {
     "data": {
      "text/plain": [
       "array([-1,  0,  1,  2,  3,  4,  5,  6])"
      ]
     },
     "execution_count": 89,
     "metadata": {},
     "output_type": "execute_result"
    }
   ],
   "source": [
    "np.unique(dbscan_labels)\n"
   ]
  },
  {
   "cell_type": "code",
   "execution_count": null,
   "metadata": {},
   "outputs": [],
   "source": []
  }
 ],
 "metadata": {
  "kernelspec": {
   "display_name": "base",
   "language": "python",
   "name": "python3"
  },
  "language_info": {
   "codemirror_mode": {
    "name": "ipython",
    "version": 3
   },
   "file_extension": ".py",
   "mimetype": "text/x-python",
   "name": "python",
   "nbconvert_exporter": "python",
   "pygments_lexer": "ipython3",
   "version": "3.12.2"
  }
 },
 "nbformat": 4,
 "nbformat_minor": 2
}
