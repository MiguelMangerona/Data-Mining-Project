{
 "cells": [
  {
   "cell_type": "markdown",
   "metadata": {},
   "source": [
    "# Clustering \n",
    "1. Hierarchical clustering\n",
    "2. K-means clustering\n",
    "3. DBScanner clustering"
   ]
  },
  {
   "cell_type": "markdown",
   "metadata": {},
   "source": [
    "#### Importing necessary libraries"
   ]
  },
  {
   "cell_type": "code",
   "execution_count": 64,
   "metadata": {},
   "outputs": [],
   "source": [
    "import pandas as pd\n",
    "import numpy as np\n",
    "from sklearn.preprocessing import StandardScaler\n",
    "from sklearn.cluster import AgglomerativeClustering\n",
    "from sklearn.metrics import silhouette_score\n",
    "from sklearn.cluster import MeanShift, DBSCAN, estimate_bandwidth #\n",
    "from sklearn.neighbors import NearestNeighbors #\n",
    "from sklearn.mixture import GaussianMixture #\n",
    "from scipy.cluster.hierarchy import dendrogram, linkage, fcluster\n",
    "import matplotlib.pyplot as plt\n",
    "import seaborn as sns \n"
   ]
  },
  {
   "cell_type": "markdown",
   "metadata": {},
   "source": [
    "### Hierarchical clustering  SÓ TESTE :) "
   ]
  },
  {
   "cell_type": "markdown",
   "metadata": {},
   "source": [
    "#### Load dataset and use .head() to view the first 6 rows of the dataset"
   ]
  },
  {
   "cell_type": "code",
   "execution_count": 2,
   "metadata": {},
   "outputs": [
    {
     "name": "stdout",
     "output_type": "stream",
     "text": [
      "  customer_id  customer_region  customer_age  vendor_count  product_count  \\\n",
      "0  1b8f824d5e             2360          18.0           2.0            5.0   \n",
      "1  5d272b9dcb             8670          17.0           2.0            2.0   \n",
      "2  f6d1b2ba63             4660          38.0           1.0            2.0   \n",
      "3  180c632ed8             4660          24.0           2.0            3.0   \n",
      "4  4eb37a6705             4660          20.0           2.0            5.0   \n",
      "5  6aef2b6726             8670          40.0           2.0            2.0   \n",
      "\n",
      "   is_chain  first_order  last_order last_promo payment_method  ...  \\\n",
      "0       1.0          0.0         1.0   DELIVERY           DIGI  ...   \n",
      "1       2.0          0.0         1.0   DISCOUNT           DIGI  ...   \n",
      "2       2.0          0.0         1.0   DISCOUNT           CASH  ...   \n",
      "3       1.0          0.0         2.0   DELIVERY           DIGI  ...   \n",
      "4       0.0          0.0         2.0   No promo           DIGI  ...   \n",
      "5       0.0          0.0         2.0    FREEBIE           DIGI  ...   \n",
      "\n",
      "   chain_category  engagement_duration  avg_order_frequency  tot_value_cui  \\\n",
      "0     Large Chain                    1                  5.0          28.88   \n",
      "1     Large Chain                    1                  2.0          19.21   \n",
      "2     Large Chain                    1                  2.0           9.20   \n",
      "3     Large Chain                    2                  1.5          31.56   \n",
      "4       Non-Chain                    2                  2.5          55.44   \n",
      "5       Non-Chain                    2                  1.0          24.92   \n",
      "\n",
      "   preferred_order_day  preferred_order_hour  age_category        PC0  \\\n",
      "0                    0                    18            26 -33.588384   \n",
      "1                    0                    10            16 -38.805109   \n",
      "2                    0                     9            42 -48.358974   \n",
      "3                    1                    11            26 -27.515592   \n",
      "4                    1                     8            26  -1.098321   \n",
      "5                    1                     1            42 -29.846033   \n",
      "\n",
      "         PC1        PC2  \n",
      "0   4.856703  68.805226  \n",
      "1   4.031286  68.700410  \n",
      "2  -2.407889  66.664748  \n",
      "3  10.829337  69.861756  \n",
      "4  31.390525  76.060649  \n",
      "5  13.007203  70.493316  \n",
      "\n",
      "[6 rows x 67 columns]\n"
     ]
    }
   ],
   "source": [
    "df = pd.read_csv('Processed_Data.csv')\n",
    "print(df.head(6))"
   ]
  },
  {
   "cell_type": "markdown",
   "metadata": {},
   "source": [
    "#### Separate numerical and categorical features\n",
    "To handle mixed data types we have to seperate numerical and categorical features"
   ]
  },
  {
   "cell_type": "code",
   "execution_count": 3,
   "metadata": {},
   "outputs": [
    {
     "name": "stdout",
     "output_type": "stream",
     "text": [
      "Numerical Features: ['customer_age', 'vendor_count', 'product_count', 'DOW_0', 'DOW_1', 'DOW_2', 'DOW_3', 'DOW_4', 'DOW_5', 'DOW_6', 'HR_0', 'HR_1', 'HR_2', 'HR_3', 'HR_4', 'HR_5', 'HR_6', 'HR_7', 'HR_8', 'HR_9', 'HR_10', 'HR_11', 'HR_12', 'HR_13', 'HR_14', 'HR_15', 'HR_16', 'HR_17', 'HR_18', 'HR_19', 'HR_20', 'HR_21', 'HR_22', 'HR_23', 'CUI_American', 'CUI_Asian', 'CUI_Beverages', 'CUI_Cafe', 'CUI_Chicken Dishes', 'CUI_Chinese', 'CUI_Desserts', 'CUI_Healthy', 'CUI_Indian', 'CUI_Italian', 'CUI_Japanese', 'CUI_Noodle Dishes', 'CUI_OTHER', 'CUI_Street Food / Snacks', 'CUI_Thai']\n",
      "Categorical Features: ['customer_region', 'is_chain']\n"
     ]
    }
   ],
   "source": [
    "numerical_features = [\n",
    "    'customer_age', 'vendor_count', 'product_count',\n",
    "] + [f'DOW_{i}' for i in range(7)] + [f'HR_{i}' for i in range(24)] + \\\n",
    "[col for col in df.columns if col.startswith('CUI_')]\n",
    "\n",
    "categorical_features = ['customer_region', 'is_chain']\n",
    "\n",
    "print(f\"Numerical Features: {numerical_features}\")\n",
    "print(f\"Categorical Features: {categorical_features}\")"
   ]
  },
  {
   "cell_type": "markdown",
   "metadata": {},
   "source": [
    "Handeling possible mussing values"
   ]
  },
  {
   "cell_type": "code",
   "execution_count": 4,
   "metadata": {},
   "outputs": [],
   "source": [
    "# Fill missing values for numerical features with the mean\n",
    "df[numerical_features] = df[numerical_features].fillna(df[numerical_features].mean())\n",
    "\n",
    "# Fill missing values for categorical features with the mode\n",
    "for feature in categorical_features:\n",
    "    df[feature] = df[feature].fillna(df[feature].mode()[0])\n"
   ]
  },
  {
   "cell_type": "markdown",
   "metadata": {},
   "source": [
    "### Preprocess Data"
   ]
  },
  {
   "cell_type": "markdown",
   "metadata": {},
   "source": [
    "##### Numerical varibles"
   ]
  },
  {
   "cell_type": "markdown",
   "metadata": {},
   "source": [
    "1. Scale numerical features using StandardScaler\n",
    "2. Encoding categorical features using One-Hot Encoding"
   ]
  },
  {
   "cell_type": "code",
   "execution_count": 5,
   "metadata": {},
   "outputs": [],
   "source": [
    "1. \n",
    "scaler = StandardScaler()\n",
    "data_scaled_numerical = scaler.fit_transform(df[numerical_features])\n",
    "\n",
    "# Convert back to a DataFrame for easier handling\n",
    "data_scaled_numerical = pd.DataFrame(data_scaled_numerical, columns=numerical_features)"
   ]
  },
  {
   "cell_type": "code",
   "execution_count": 6,
   "metadata": {},
   "outputs": [
    {
     "name": "stdout",
     "output_type": "stream",
     "text": [
      "One-Hot Encoded Categorical Features:\n",
      "   customer_region  is_chain\n",
      "0             2360       1.0\n",
      "1             8670       2.0\n",
      "2             4660       2.0\n",
      "3             4660       1.0\n",
      "4             4660       0.0\n"
     ]
    }
   ],
   "source": [
    "2. \n",
    "data_encoded_categorical = pd.get_dummies(df[categorical_features], drop_first=True)\n",
    "\n",
    "# Check the transformed categorical data\n",
    "print(\"One-Hot Encoded Categorical Features:\")\n",
    "print(data_encoded_categorical.head())"
   ]
  },
  {
   "cell_type": "markdown",
   "metadata": {},
   "source": [
    "#### Combine processed data: numerical and categorical"
   ]
  },
  {
   "cell_type": "code",
   "execution_count": 7,
   "metadata": {},
   "outputs": [
    {
     "name": "stdout",
     "output_type": "stream",
     "text": [
      "Preprocessed Data Shape: (31875, 51)\n"
     ]
    }
   ],
   "source": [
    "# Combine numerical and categorical data\n",
    "data_preprocessed = pd.concat([data_scaled_numerical, data_encoded_categorical], axis=1)\n",
    "\n",
    "# Confirm the shape of the processed data\n",
    "print(f\"Preprocessed Data Shape: {data_preprocessed.shape}\")\n"
   ]
  },
  {
   "cell_type": "markdown",
   "metadata": {},
   "source": [
    "## Linkage Matrix"
   ]
  },
  {
   "cell_type": "code",
   "execution_count": 8,
   "metadata": {},
   "outputs": [
    {
     "data": {
      "image/png": "[encoded data removed]",
      "text/plain": [
       "<Figure size 1000x800 with 1 Axes>"
      ]
     },
     "metadata": {},
     "output_type": "display_data"
    }
   ],
   "source": [
    "# Build the linkage matrix using Euclidean distance\n",
    "linkage_matrix = linkage(data_preprocessed, method='ward')\n",
    "\n",
    "# Visualize the dendrogram\n",
    "plt.figure(figsize=(10, 8))\n",
    "dendrogram(linkage_matrix, truncate_mode='level', p=5)  # Show the top 5 levels\n",
    "plt.title(\"Dendrogram - Hierarchical Clustering\")\n",
    "plt.xlabel(\"Samples\")\n",
    "plt.ylabel(\"Distance\")\n",
    "plt.show()\n"
   ]
  },
  {
   "cell_type": "markdown",
   "metadata": {},
   "source": [
    "### Observations from the Dendrogram\n",
    "\n",
    "1. **Number of Clusters**:\n",
    "   - There is a significant jump at the 600,000 distance mark, suggesting that **2 main clusters** could be formed.\n",
    "   - If more granularity is needed, cutting at a lower distance (e.g., 200,000) could result in **4 smaller clusters**.\n",
    "\n",
    "2. **Cluster Compactness**:\n",
    "   - The smaller branches at the bottom of the dendrogram indicate **tight, similar groups** within clusters.\n",
    "   - The larger distances between the green and orange branches show **clear separation** between the two main clusters.\n",
    "\n",
    "3. **Hierarchical Relationships**:\n",
    "   - The hierarchy reveals **subgroups within each main cluster**, which could be further explored if additional detail is required.\n",
    "\n",
    "### Conclusion\n",
    "- Start with **2 clusters** for broader analysis.\n",
    "- Explore **4 clusters** for more detailed segmentation if necessary.\n"
   ]
  },
  {
   "cell_type": "markdown",
   "metadata": {},
   "source": [
    "#### Decide the number oof clusters based on the dendrogram above"
   ]
  },
  {
   "cell_type": "code",
   "execution_count": 9,
   "metadata": {},
   "outputs": [],
   "source": [
    "# Decide the number of clusters (e.g., 4)\n",
    "num_clusters = 4\n",
    "\n",
    "# Generate cluster labels\n",
    "clusters = fcluster(linkage_matrix, t=num_clusters, criterion='maxclust')\n",
    "\n",
    "# Add cluster labels to the original dataset\n",
    "df['cluster'] = clusters\n"
   ]
  },
  {
   "cell_type": "markdown",
   "metadata": {},
   "source": [
    "### analyze clusters"
   ]
  },
  {
   "cell_type": "code",
   "execution_count": 10,
   "metadata": {},
   "outputs": [
    {
     "name": "stdout",
     "output_type": "stream",
     "text": [
      "Cluster Profiles - Numerical Features:\n",
      "         customer_age  vendor_count  product_count     DOW_0     DOW_1  \\\n",
      "cluster                                                                  \n",
      "1           27.451685      2.861451       4.797466  0.485482  0.481468   \n",
      "2           27.424468      3.595705       6.304055  0.658641  0.676118   \n",
      "3           27.649942      1.803967       4.144131  0.347725  0.355893   \n",
      "4           27.462513      2.811728       5.589742  0.537906  0.560838   \n",
      "\n",
      "            DOW_2     DOW_3     DOW_4     DOW_5     DOW_6  ...  CUI_Chinese  \\\n",
      "cluster                                                    ...                \n",
      "1        0.491551  0.490430  0.487816  0.518252  0.539632  ...     1.142122   \n",
      "2        0.695082  0.718323  0.766385  0.765362  0.847355  ...     2.593849   \n",
      "3        0.415403  0.423571  0.596266  0.480747  0.581097  ...     0.217316   \n",
      "4        0.600838  0.670157  0.798639  0.692880  0.739267  ...     0.556768   \n",
      "\n",
      "         CUI_Desserts  CUI_Healthy  CUI_Indian  CUI_Italian  CUI_Japanese  \\\n",
      "cluster                                                                     \n",
      "1            2.213519     1.094438    0.000000     0.000000      3.495331   \n",
      "2            0.415779     0.444057    1.818954     0.729992      1.658365   \n",
      "3            0.000000     0.310653    2.066826    13.848973      1.258121   \n",
      "4            0.001979     1.417235    3.212193     8.731509      4.098717   \n",
      "\n",
      "         CUI_Noodle Dishes  CUI_OTHER  CUI_Street Food / Snacks  CUI_Thai  \n",
      "cluster                                                                    \n",
      "1                 0.000000   0.094997                 10.691872  0.000000  \n",
      "2                 2.109689   4.024801                  0.374208  0.722718  \n",
      "3                 0.000000   2.693442                  1.782392  0.911015  \n",
      "4                 0.000000   5.135148                  0.478555  1.914660  \n",
      "\n",
      "[4 rows x 49 columns]\n"
     ]
    }
   ],
   "source": [
    "# Analyze numerical features by cluster\n",
    "cluster_profiles_numerical = df.groupby('cluster')[numerical_features].mean()\n",
    "\n",
    "print(\"Cluster Profiles - Numerical Features:\")\n",
    "print(cluster_profiles_numerical)\n"
   ]
  },
  {
   "cell_type": "code",
   "execution_count": 11,
   "metadata": {},
   "outputs": [
    {
     "name": "stdout",
     "output_type": "stream",
     "text": [
      "\n",
      "Cluster Profiles for Categorical Feature: customer_region\n",
      "customer_region      2360      2440      2490  4140  4660      8370      8550  \\\n",
      "cluster                                                                         \n",
      "1                     NaN       NaN       NaN   NaN   NaN  0.046214  0.001214   \n",
      "2                0.820768  0.137864  0.041368   NaN   NaN       NaN       NaN   \n",
      "3                     NaN       NaN       NaN   1.0   NaN       NaN       NaN   \n",
      "4                     NaN       NaN       NaN   NaN   1.0       NaN       NaN   \n",
      "\n",
      "customer_region      8670  \n",
      "cluster                    \n",
      "1                0.952572  \n",
      "2                     NaN  \n",
      "3                     NaN  \n",
      "4                     NaN  \n",
      "\n",
      "Cluster Profiles for Categorical Feature: is_chain\n",
      "is_chain      0.0       1.0       2.0       3.0       4.0       5.0   \\\n",
      "cluster                                                                \n",
      "1         0.236953  0.332275  0.195407  0.105312  0.050509  0.028475   \n",
      "2         0.039509  0.212699  0.202101  0.153203  0.095659  0.066004   \n",
      "3         0.606768  0.201867  0.093349  0.038506  0.022170  0.010502   \n",
      "4         0.273927  0.264188  0.161780  0.092880  0.060314  0.037277   \n",
      "\n",
      "is_chain      6.0       7.0       8.0       9.0   ...      56.0      61.0  \\\n",
      "cluster                                           ...                       \n",
      "1         0.017459  0.011577  0.007282  0.005042  ...       NaN       NaN   \n",
      "2         0.045645  0.034861  0.026030  0.020359  ...  0.000093  0.000093   \n",
      "3         0.005834  0.004667  0.003501  0.001167  ...       NaN       NaN   \n",
      "4         0.027539  0.018429  0.014555  0.010366  ...       NaN       NaN   \n",
      "\n",
      "is_chain      63.0      65.0      67.0      73.0      75.0      80.0  \\\n",
      "cluster                                                                \n",
      "1              NaN       NaN       NaN       NaN       NaN       NaN   \n",
      "2         0.000093  0.000093  0.000093  0.000093  0.000093  0.000093   \n",
      "3              NaN       NaN       NaN       NaN       NaN       NaN   \n",
      "4              NaN       NaN       NaN       NaN       NaN       NaN   \n",
      "\n",
      "is_chain      81.0      83.0  \n",
      "cluster                       \n",
      "1              NaN       NaN  \n",
      "2         0.000093  0.000093  \n",
      "3              NaN       NaN  \n",
      "4              NaN       NaN  \n",
      "\n",
      "[4 rows x 60 columns]\n"
     ]
    }
   ],
   "source": [
    "# Analyze categorical features by cluster\n",
    "categorical_cluster_profiles = {}\n",
    "for feature in categorical_features:\n",
    "    proportions = df.groupby('cluster')[feature].value_counts(normalize=True).unstack()\n",
    "    categorical_cluster_profiles[feature] = proportions\n",
    "\n",
    "# Display cluster profiles for categorical features\n",
    "for feature, profile in categorical_cluster_profiles.items():\n",
    "    print(f\"\\nCluster Profiles for Categorical Feature: {feature}\")\n",
    "    print(profile)\n"
   ]
  },
  {
   "cell_type": "code",
   "execution_count": 12,
   "metadata": {},
   "outputs": [
    {
     "data": {
      "image/png": "[encoded data removed]",
      "text/plain": [
       "<Figure size 1000x600 with 1 Axes>"
      ]
     },
     "metadata": {},
     "output_type": "display_data"
    }
   ],
   "source": [
    "# Distribution of customers across clusters\n",
    "df['cluster'].value_counts().plot(kind='bar', figsize=(10, 6))\n",
    "plt.title(\"Number of Customers per Cluster\")\n",
    "plt.xlabel(\"Cluster\")\n",
    "plt.ylabel(\"Number of Customers\")\n",
    "plt.show()\n"
   ]
  },
  {
   "cell_type": "code",
   "execution_count": 13,
   "metadata": {},
   "outputs": [
    {
     "data": {
      "image/png": "[encoded data removed]",
      "text/plain": [
       "<Figure size 640x480 with 1 Axes>"
      ]
     },
     "metadata": {},
     "output_type": "display_data"
    }
   ],
   "source": [
    "# Boxplot for customer age by cluster\n",
    "sns.boxplot(x='cluster', y='customer_age', data=df)\n",
    "plt.title(\"Customer Age Distribution by Cluster\")\n",
    "plt.xlabel(\"Cluster\")\n",
    "plt.ylabel(\"Customer Age\")\n",
    "plt.show()\n"
   ]
  },
  {
   "cell_type": "code",
   "execution_count": null,
   "metadata": {},
   "outputs": [],
   "source": []
  },
  {
   "cell_type": "markdown",
   "metadata": {},
   "source": [
    "### 3. DBSCAN (Density-based spatial clustering of applications with noise)\n",
    "### Testeeeeeee"
   ]
  },
  {
   "cell_type": "code",
   "execution_count": 19,
   "metadata": {},
   "outputs": [],
   "source": [
    "# Splitting feature names into groups\n",
    "# Remember which metric_features we decided to keep?\n",
    "metric_features = df.select_dtypes(include=['number']).columns.tolist()\n",
    "\n",
    "# Identify non-metric (categorical) features\n",
    "non_metric_features = df.select_dtypes(exclude=['number']).columns.tolist()\n",
    "pc_features = df.columns[df.columns.str.startswith('PC')].tolist()  \n",
    "\n",
    "unused_features = [i for i in df.columns if i not in (metric_features+non_metric_features+pc_features) ]"
   ]
  },
  {
   "cell_type": "code",
   "execution_count": 20,
   "metadata": {},
   "outputs": [
    {
     "name": "stdout",
     "output_type": "stream",
     "text": [
      "metric_features: ['customer_region', 'customer_age', 'vendor_count', 'product_count', 'is_chain', 'first_order', 'last_order', 'CUI_American', 'CUI_Asian', 'CUI_Beverages', 'CUI_Cafe', 'CUI_Chicken Dishes', 'CUI_Chinese', 'CUI_Desserts', 'CUI_Healthy', 'CUI_Indian', 'CUI_Italian', 'CUI_Japanese', 'CUI_Noodle Dishes', 'CUI_OTHER', 'CUI_Street Food / Snacks', 'CUI_Thai', 'DOW_0', 'DOW_1', 'DOW_2', 'DOW_3', 'DOW_4', 'DOW_5', 'DOW_6', 'HR_0', 'HR_1', 'HR_2', 'HR_3', 'HR_4', 'HR_5', 'HR_6', 'HR_7', 'HR_8', 'HR_9', 'HR_10', 'HR_11', 'HR_12', 'HR_13', 'HR_14', 'HR_15', 'HR_16', 'HR_17', 'HR_18', 'HR_19', 'HR_20', 'HR_21', 'HR_22', 'HR_23', 'customer_city', 'engagement_duration', 'avg_order_frequency', 'tot_value_cui', 'preferred_order_day', 'preferred_order_hour', 'age_category', 'PC0', 'PC1', 'PC2', 'cluster']\n",
      "\n",
      "non_metric_features: ['customer_id', 'last_promo', 'payment_method', 'chain_category']\n",
      "\n",
      "unused_features: []\n",
      "\n",
      "pc_features: ['PC0', 'PC1', 'PC2']\n"
     ]
    }
   ],
   "source": [
    "print('metric_features:', metric_features)\n",
    "print('\\nnon_metric_features:', non_metric_features)\n",
    "print('\\nunused_features:', unused_features)\n",
    "print('\\npc_features:', pc_features)"
   ]
  },
  {
   "cell_type": "code",
   "execution_count": 38,
   "metadata": {},
   "outputs": [
    {
     "name": "stdout",
     "output_type": "stream",
     "text": [
      "avg_order_frequency    156\n",
      "dtype: int64\n"
     ]
    }
   ],
   "source": [
    "# Display only columns with missing values\n",
    "missing_values_all = df.isnull().sum()\n",
    "missing_values = missing_values_all[missing_values_all > 0]\n",
    "\n",
    "# Display the columns with missing values\n",
    "print(missing_values)"
   ]
  },
  {
   "cell_type": "code",
   "execution_count": 73,
   "metadata": {},
   "outputs": [
    {
     "data": {
      "image/png": "[encoded data removed]",
      "text/plain": [
       "<Figure size 640x480 with 1 Axes>"
      ]
     },
     "metadata": {},
     "output_type": "display_data"
    }
   ],
   "source": [
    "from sklearn.neighbors import NearestNeighbors\n",
    "import matplotlib.pyplot as plt\n",
    "import numpy as np\n",
    "\n",
    "# Excluir a feature \"avg_order_frequency\" das metric features\n",
    "features_for_distance = [feature for feature in metric_features if feature != \"avg_order_frequency\"]\n",
    "\n",
    "# Calcular as distâncias dos k-vizinhos mais próximos\n",
    "neigh = NearestNeighbors(n_neighbors=20)\n",
    "neigh.fit(df[features_for_distance])\n",
    "distances, _ = neigh.kneighbors(df[features_for_distance])\n",
    "\n",
    "# Ordenar as distâncias\n",
    "distances = np.sort(distances[:, -1])\n",
    "\n",
    "# Plotar o gráfico das distâncias\n",
    "plt.plot(distances)\n",
    "plt.xlabel('Pontos de dados')\n",
    "plt.ylabel('Distância do 20º vizinho mais próximo')\n",
    "plt.title('Gráfico de distâncias dos k-vizinhos mais próximos (sem \"avg_order_frequency\")')\n",
    "\n",
    "# Alterar os limites do eixo y para 0 a 160\n",
    "plt.ylim(0, 160)\n",
    "\n",
    "plt.show()\n"
   ]
  },
  {
   "cell_type": "code",
   "execution_count": 60,
   "metadata": {},
   "outputs": [
    {
     "data": {
      "text/html": [
       "<div>\n",
       "<style scoped>\n",
       "    .dataframe tbody tr th:only-of-type {\n",
       "        vertical-align: middle;\n",
       "    }\n",
       "\n",
       "    .dataframe tbody tr th {\n",
       "        vertical-align: top;\n",
       "    }\n",
       "\n",
       "    .dataframe thead th {\n",
       "        text-align: right;\n",
       "    }\n",
       "</style>\n",
       "<table border=\"1\" class=\"dataframe\">\n",
       "  <thead>\n",
       "    <tr style=\"text-align: right;\">\n",
       "      <th></th>\n",
       "      <th>customer_region</th>\n",
       "      <th>customer_age</th>\n",
       "      <th>vendor_count</th>\n",
       "      <th>product_count</th>\n",
       "      <th>is_chain</th>\n",
       "      <th>first_order</th>\n",
       "      <th>last_order</th>\n",
       "      <th>CUI_American</th>\n",
       "      <th>CUI_Asian</th>\n",
       "      <th>CUI_Beverages</th>\n",
       "      <th>...</th>\n",
       "      <th>avg_order_frequency</th>\n",
       "      <th>tot_value_cui</th>\n",
       "      <th>preferred_order_day</th>\n",
       "      <th>preferred_order_hour</th>\n",
       "      <th>age_category</th>\n",
       "      <th>PC0</th>\n",
       "      <th>PC1</th>\n",
       "      <th>PC2</th>\n",
       "      <th>cluster</th>\n",
       "      <th>dbscan_labels</th>\n",
       "    </tr>\n",
       "  </thead>\n",
       "  <tbody>\n",
       "    <tr>\n",
       "      <th>0</th>\n",
       "      <td>2360</td>\n",
       "      <td>18.0</td>\n",
       "      <td>2.0</td>\n",
       "      <td>5.0</td>\n",
       "      <td>1.0</td>\n",
       "      <td>0.0</td>\n",
       "      <td>1.0</td>\n",
       "      <td>0.00</td>\n",
       "      <td>0.00</td>\n",
       "      <td>0.0</td>\n",
       "      <td>...</td>\n",
       "      <td>5.0</td>\n",
       "      <td>28.88</td>\n",
       "      <td>0</td>\n",
       "      <td>18</td>\n",
       "      <td>26</td>\n",
       "      <td>-33.588384</td>\n",
       "      <td>4.856703</td>\n",
       "      <td>68.805226</td>\n",
       "      <td>2</td>\n",
       "      <td>-1</td>\n",
       "    </tr>\n",
       "    <tr>\n",
       "      <th>1</th>\n",
       "      <td>8670</td>\n",
       "      <td>17.0</td>\n",
       "      <td>2.0</td>\n",
       "      <td>2.0</td>\n",
       "      <td>2.0</td>\n",
       "      <td>0.0</td>\n",
       "      <td>1.0</td>\n",
       "      <td>12.82</td>\n",
       "      <td>6.39</td>\n",
       "      <td>0.0</td>\n",
       "      <td>...</td>\n",
       "      <td>2.0</td>\n",
       "      <td>19.21</td>\n",
       "      <td>0</td>\n",
       "      <td>10</td>\n",
       "      <td>16</td>\n",
       "      <td>-38.805109</td>\n",
       "      <td>4.031286</td>\n",
       "      <td>68.700410</td>\n",
       "      <td>1</td>\n",
       "      <td>-1</td>\n",
       "    </tr>\n",
       "    <tr>\n",
       "      <th>2</th>\n",
       "      <td>4660</td>\n",
       "      <td>38.0</td>\n",
       "      <td>1.0</td>\n",
       "      <td>2.0</td>\n",
       "      <td>2.0</td>\n",
       "      <td>0.0</td>\n",
       "      <td>1.0</td>\n",
       "      <td>9.20</td>\n",
       "      <td>0.00</td>\n",
       "      <td>0.0</td>\n",
       "      <td>...</td>\n",
       "      <td>2.0</td>\n",
       "      <td>9.20</td>\n",
       "      <td>0</td>\n",
       "      <td>9</td>\n",
       "      <td>42</td>\n",
       "      <td>-48.358974</td>\n",
       "      <td>-2.407889</td>\n",
       "      <td>66.664748</td>\n",
       "      <td>4</td>\n",
       "      <td>-1</td>\n",
       "    </tr>\n",
       "    <tr>\n",
       "      <th>3</th>\n",
       "      <td>4660</td>\n",
       "      <td>24.0</td>\n",
       "      <td>2.0</td>\n",
       "      <td>3.0</td>\n",
       "      <td>1.0</td>\n",
       "      <td>0.0</td>\n",
       "      <td>2.0</td>\n",
       "      <td>0.00</td>\n",
       "      <td>13.70</td>\n",
       "      <td>0.0</td>\n",
       "      <td>...</td>\n",
       "      <td>1.5</td>\n",
       "      <td>31.56</td>\n",
       "      <td>1</td>\n",
       "      <td>11</td>\n",
       "      <td>26</td>\n",
       "      <td>-27.515592</td>\n",
       "      <td>10.829337</td>\n",
       "      <td>69.861756</td>\n",
       "      <td>4</td>\n",
       "      <td>-1</td>\n",
       "    </tr>\n",
       "    <tr>\n",
       "      <th>4</th>\n",
       "      <td>4660</td>\n",
       "      <td>20.0</td>\n",
       "      <td>2.0</td>\n",
       "      <td>5.0</td>\n",
       "      <td>0.0</td>\n",
       "      <td>0.0</td>\n",
       "      <td>2.0</td>\n",
       "      <td>14.57</td>\n",
       "      <td>40.87</td>\n",
       "      <td>0.0</td>\n",
       "      <td>...</td>\n",
       "      <td>2.5</td>\n",
       "      <td>55.44</td>\n",
       "      <td>1</td>\n",
       "      <td>8</td>\n",
       "      <td>26</td>\n",
       "      <td>-1.098321</td>\n",
       "      <td>31.390525</td>\n",
       "      <td>76.060649</td>\n",
       "      <td>4</td>\n",
       "      <td>-1</td>\n",
       "    </tr>\n",
       "  </tbody>\n",
       "</table>\n",
       "<p>5 rows × 65 columns</p>\n",
       "</div>"
      ],
      "text/plain": [
       "   customer_region  customer_age  vendor_count  product_count  is_chain  \\\n",
       "0             2360          18.0           2.0            5.0       1.0   \n",
       "1             8670          17.0           2.0            2.0       2.0   \n",
       "2             4660          38.0           1.0            2.0       2.0   \n",
       "3             4660          24.0           2.0            3.0       1.0   \n",
       "4             4660          20.0           2.0            5.0       0.0   \n",
       "\n",
       "   first_order  last_order  CUI_American  CUI_Asian  CUI_Beverages  ...  \\\n",
       "0          0.0         1.0          0.00       0.00            0.0  ...   \n",
       "1          0.0         1.0         12.82       6.39            0.0  ...   \n",
       "2          0.0         1.0          9.20       0.00            0.0  ...   \n",
       "3          0.0         2.0          0.00      13.70            0.0  ...   \n",
       "4          0.0         2.0         14.57      40.87            0.0  ...   \n",
       "\n",
       "   avg_order_frequency  tot_value_cui  preferred_order_day  \\\n",
       "0                  5.0          28.88                    0   \n",
       "1                  2.0          19.21                    0   \n",
       "2                  2.0           9.20                    0   \n",
       "3                  1.5          31.56                    1   \n",
       "4                  2.5          55.44                    1   \n",
       "\n",
       "   preferred_order_hour  age_category        PC0        PC1        PC2  \\\n",
       "0                    18            26 -33.588384   4.856703  68.805226   \n",
       "1                    10            16 -38.805109   4.031286  68.700410   \n",
       "2                     9            42 -48.358974  -2.407889  66.664748   \n",
       "3                    11            26 -27.515592  10.829337  69.861756   \n",
       "4                     8            26  -1.098321  31.390525  76.060649   \n",
       "\n",
       "   cluster  dbscan_labels  \n",
       "0        2             -1  \n",
       "1        1             -1  \n",
       "2        4             -1  \n",
       "3        4             -1  \n",
       "4        4             -1  \n",
       "\n",
       "[5 rows x 65 columns]"
      ]
     },
     "execution_count": 60,
     "metadata": {},
     "output_type": "execute_result"
    }
   ],
   "source": [
    "# Concatenating the labels to df\n",
    "df_concat = pd.concat([df[metric_features], pd.Series(dbscan_labels, index=df.index, name=\"dbscan_labels\")], axis=1)\n",
    "df_concat.head()"
   ]
  },
  {
   "cell_type": "code",
   "execution_count": 88,
   "metadata": {},
   "outputs": [
    {
     "name": "stdout",
     "output_type": "stream",
     "text": [
      "Number of estimated clusters : 8\n"
     ]
    }
   ],
   "source": [
    "# Excluir a feature \"total_value_cui\" ao selecionar as features para o clustering\n",
    "features_for_clustering = [feature for feature in metric_features if feature != \"avg_order_frequency\"]\n",
    "\n",
    "# Perform DBSCAN clustering\n",
    "dbscan = DBSCAN(eps=40, min_samples=25, n_jobs=4)\n",
    "dbscan_labels = dbscan.fit_predict(df[features_for_clustering])\n",
    "\n",
    "dbscan_n_clusters = len(np.unique(dbscan_labels))\n",
    "print(\"Number of estimated clusters : %d\" % dbscan_n_clusters)\n",
    "\n",
    "#usei o eps=40 por causa do grafico\n",
    "#usei min_samples=25 porque deve ser 2xdim e deve ser mais ou menos isso\n"
   ]
  },
  {
   "cell_type": "code",
   "execution_count": 89,
   "metadata": {},
   "outputs": [
    {
     "data": {
      "text/plain": [
       "array([-1,  0,  1,  2,  3,  4,  5,  6])"
      ]
     },
     "execution_count": 89,
     "metadata": {},
     "output_type": "execute_result"
    }
   ],
   "source": [
    "np.unique(dbscan_labels)\n"
   ]
  },
  {
   "cell_type": "code",
   "execution_count": null,
   "metadata": {},
   "outputs": [],
   "source": []
  }
 ],
 "metadata": {
  "kernelspec": {
   "display_name": "base",
   "language": "python",
   "name": "python3"
  },
  "language_info": {
   "codemirror_mode": {
    "name": "ipython",
    "version": 3
   },
   "file_extension": ".py",
   "mimetype": "text/x-python",
   "name": "python",
   "nbconvert_exporter": "python",
   "pygments_lexer": "ipython3",
   "version": "3.12.4"
  }
 },
 "nbformat": 4,
 "nbformat_minor": 2
}
