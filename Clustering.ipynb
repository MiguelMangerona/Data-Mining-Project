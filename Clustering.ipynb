{
 "cells": [
  {
   "cell_type": "markdown",
   "metadata": {},
   "source": [
    "# Clustering \n",
    "1. Hierarchical clustering\n",
    "2. K-means clustering\n",
    "3. DBScanner clustering"
   ]
  },
  {
   "cell_type": "markdown",
   "metadata": {},
   "source": [
    "#### Importing necessary libraries"
   ]
  },
  {
   "cell_type": "code",
   "execution_count": 1,
   "metadata": {},
   "outputs": [],
   "source": [
    "import pandas as pd\n",
    "import numpy as np\n",
    "from sklearn.preprocessing import StandardScaler\n",
    "from sklearn.cluster import AgglomerativeClustering\n",
    "from sklearn.metrics import silhouette_score\n",
    "from sklearn.cluster import MeanShift, DBSCAN, estimate_bandwidth #\n",
    "from sklearn.neighbors import NearestNeighbors #\n",
    "from sklearn.mixture import GaussianMixture #\n",
    "from scipy.cluster.hierarchy import dendrogram, linkage, fcluster\n",
    "import matplotlib.pyplot as plt\n",
    "import seaborn as sns \n",
    "from scipy.spatial.distance import pdist, squareform\n"
   ]
  },
  {
   "cell_type": "code",
   "execution_count": 2,
   "metadata": {},
   "outputs": [],
   "source": [
    "df = pd.read_csv('Processed_Data.csv')"
   ]
  },
  {
   "cell_type": "code",
   "execution_count": 3,
   "metadata": {},
   "outputs": [
    {
     "data": {
      "text/html": [
       "<div>\n",
       "<style scoped>\n",
       "    .dataframe tbody tr th:only-of-type {\n",
       "        vertical-align: middle;\n",
       "    }\n",
       "\n",
       "    .dataframe tbody tr th {\n",
       "        vertical-align: top;\n",
       "    }\n",
       "\n",
       "    .dataframe thead th {\n",
       "        text-align: right;\n",
       "    }\n",
       "</style>\n",
       "<table border=\"1\" class=\"dataframe\">\n",
       "  <thead>\n",
       "    <tr style=\"text-align: right;\">\n",
       "      <th></th>\n",
       "      <th>vendor_count</th>\n",
       "      <th>is_chain</th>\n",
       "      <th>first_order</th>\n",
       "      <th>last_order</th>\n",
       "      <th>CUI_American</th>\n",
       "      <th>CUI_Asian</th>\n",
       "      <th>CUI_Beverages</th>\n",
       "      <th>CUI_Cafe</th>\n",
       "      <th>CUI_Chicken Dishes</th>\n",
       "      <th>CUI_Chinese</th>\n",
       "      <th>...</th>\n",
       "      <th>CUI_Japanese</th>\n",
       "      <th>CUI_Noodle Dishes</th>\n",
       "      <th>CUI_OTHER</th>\n",
       "      <th>CUI_Street Food / Snacks</th>\n",
       "      <th>CUI_Thai</th>\n",
       "      <th>engagement_duration</th>\n",
       "      <th>tot_value_cui</th>\n",
       "      <th>preferred_order_day</th>\n",
       "      <th>preferred_order_hour</th>\n",
       "      <th>age_category</th>\n",
       "    </tr>\n",
       "  </thead>\n",
       "  <tbody>\n",
       "    <tr>\n",
       "      <th>0</th>\n",
       "      <td>2.0</td>\n",
       "      <td>1.0</td>\n",
       "      <td>0.0</td>\n",
       "      <td>1.0</td>\n",
       "      <td>0.00</td>\n",
       "      <td>0.00</td>\n",
       "      <td>0.0</td>\n",
       "      <td>0.0</td>\n",
       "      <td>0.0</td>\n",
       "      <td>0.0</td>\n",
       "      <td>...</td>\n",
       "      <td>0.0</td>\n",
       "      <td>0.0</td>\n",
       "      <td>0.0</td>\n",
       "      <td>0.0</td>\n",
       "      <td>0.0</td>\n",
       "      <td>1</td>\n",
       "      <td>28.88</td>\n",
       "      <td>0</td>\n",
       "      <td>18</td>\n",
       "      <td>26</td>\n",
       "    </tr>\n",
       "    <tr>\n",
       "      <th>1</th>\n",
       "      <td>2.0</td>\n",
       "      <td>2.0</td>\n",
       "      <td>0.0</td>\n",
       "      <td>1.0</td>\n",
       "      <td>12.82</td>\n",
       "      <td>6.39</td>\n",
       "      <td>0.0</td>\n",
       "      <td>0.0</td>\n",
       "      <td>0.0</td>\n",
       "      <td>0.0</td>\n",
       "      <td>...</td>\n",
       "      <td>0.0</td>\n",
       "      <td>0.0</td>\n",
       "      <td>0.0</td>\n",
       "      <td>0.0</td>\n",
       "      <td>0.0</td>\n",
       "      <td>1</td>\n",
       "      <td>19.21</td>\n",
       "      <td>0</td>\n",
       "      <td>10</td>\n",
       "      <td>16</td>\n",
       "    </tr>\n",
       "    <tr>\n",
       "      <th>2</th>\n",
       "      <td>1.0</td>\n",
       "      <td>2.0</td>\n",
       "      <td>0.0</td>\n",
       "      <td>1.0</td>\n",
       "      <td>9.20</td>\n",
       "      <td>0.00</td>\n",
       "      <td>0.0</td>\n",
       "      <td>0.0</td>\n",
       "      <td>0.0</td>\n",
       "      <td>0.0</td>\n",
       "      <td>...</td>\n",
       "      <td>0.0</td>\n",
       "      <td>0.0</td>\n",
       "      <td>0.0</td>\n",
       "      <td>0.0</td>\n",
       "      <td>0.0</td>\n",
       "      <td>1</td>\n",
       "      <td>9.20</td>\n",
       "      <td>0</td>\n",
       "      <td>9</td>\n",
       "      <td>42</td>\n",
       "    </tr>\n",
       "    <tr>\n",
       "      <th>3</th>\n",
       "      <td>2.0</td>\n",
       "      <td>1.0</td>\n",
       "      <td>0.0</td>\n",
       "      <td>2.0</td>\n",
       "      <td>0.00</td>\n",
       "      <td>13.70</td>\n",
       "      <td>0.0</td>\n",
       "      <td>0.0</td>\n",
       "      <td>0.0</td>\n",
       "      <td>0.0</td>\n",
       "      <td>...</td>\n",
       "      <td>0.0</td>\n",
       "      <td>0.0</td>\n",
       "      <td>0.0</td>\n",
       "      <td>0.0</td>\n",
       "      <td>0.0</td>\n",
       "      <td>2</td>\n",
       "      <td>31.56</td>\n",
       "      <td>1</td>\n",
       "      <td>11</td>\n",
       "      <td>26</td>\n",
       "    </tr>\n",
       "    <tr>\n",
       "      <th>4</th>\n",
       "      <td>2.0</td>\n",
       "      <td>0.0</td>\n",
       "      <td>0.0</td>\n",
       "      <td>2.0</td>\n",
       "      <td>14.57</td>\n",
       "      <td>40.87</td>\n",
       "      <td>0.0</td>\n",
       "      <td>0.0</td>\n",
       "      <td>0.0</td>\n",
       "      <td>0.0</td>\n",
       "      <td>...</td>\n",
       "      <td>0.0</td>\n",
       "      <td>0.0</td>\n",
       "      <td>0.0</td>\n",
       "      <td>0.0</td>\n",
       "      <td>0.0</td>\n",
       "      <td>2</td>\n",
       "      <td>55.44</td>\n",
       "      <td>1</td>\n",
       "      <td>8</td>\n",
       "      <td>26</td>\n",
       "    </tr>\n",
       "  </tbody>\n",
       "</table>\n",
       "<p>5 rows × 24 columns</p>\n",
       "</div>"
      ],
      "text/plain": [
       "   vendor_count  is_chain  first_order  last_order  CUI_American  CUI_Asian  \\\n",
       "0           2.0       1.0          0.0         1.0          0.00       0.00   \n",
       "1           2.0       2.0          0.0         1.0         12.82       6.39   \n",
       "2           1.0       2.0          0.0         1.0          9.20       0.00   \n",
       "3           2.0       1.0          0.0         2.0          0.00      13.70   \n",
       "4           2.0       0.0          0.0         2.0         14.57      40.87   \n",
       "\n",
       "   CUI_Beverages  CUI_Cafe  CUI_Chicken Dishes  CUI_Chinese  ...  \\\n",
       "0            0.0       0.0                 0.0          0.0  ...   \n",
       "1            0.0       0.0                 0.0          0.0  ...   \n",
       "2            0.0       0.0                 0.0          0.0  ...   \n",
       "3            0.0       0.0                 0.0          0.0  ...   \n",
       "4            0.0       0.0                 0.0          0.0  ...   \n",
       "\n",
       "   CUI_Japanese  CUI_Noodle Dishes  CUI_OTHER  CUI_Street Food / Snacks  \\\n",
       "0           0.0                0.0        0.0                       0.0   \n",
       "1           0.0                0.0        0.0                       0.0   \n",
       "2           0.0                0.0        0.0                       0.0   \n",
       "3           0.0                0.0        0.0                       0.0   \n",
       "4           0.0                0.0        0.0                       0.0   \n",
       "\n",
       "   CUI_Thai  engagement_duration  tot_value_cui  preferred_order_day  \\\n",
       "0       0.0                    1          28.88                    0   \n",
       "1       0.0                    1          19.21                    0   \n",
       "2       0.0                    1           9.20                    0   \n",
       "3       0.0                    2          31.56                    1   \n",
       "4       0.0                    2          55.44                    1   \n",
       "\n",
       "   preferred_order_hour  age_category  \n",
       "0                    18            26  \n",
       "1                    10            16  \n",
       "2                     9            42  \n",
       "3                    11            26  \n",
       "4                     8            26  \n",
       "\n",
       "[5 rows x 24 columns]"
      ]
     },
     "execution_count": 3,
     "metadata": {},
     "output_type": "execute_result"
    }
   ],
   "source": [
    "df.head(5)"
   ]
  },
  {
   "cell_type": "code",
   "execution_count": 4,
   "metadata": {},
   "outputs": [
    {
     "name": "stdout",
     "output_type": "stream",
     "text": [
      "cluster_features ['vendor_count', 'is_chain', 'first_order', 'last_order', 'CUI_American', 'CUI_Asian', 'CUI_Beverages', 'CUI_Cafe', 'CUI_Chicken Dishes', 'CUI_Chinese', 'CUI_Desserts', 'CUI_Healthy', 'CUI_Indian', 'CUI_Italian', 'CUI_Japanese', 'CUI_Noodle Dishes', 'CUI_OTHER', 'CUI_Street Food / Snacks', 'CUI_Thai', 'engagement_duration', 'tot_value_cui', 'preferred_order_day', 'preferred_order_hour', 'age_category']\n"
     ]
    }
   ],
   "source": [
    "cluster_features = ['vendor_count', 'is_chain', 'first_order', 'last_order', \n",
    "                                       'CUI_American', 'CUI_Asian', 'CUI_Beverages', 'CUI_Cafe',\n",
    "                                       'CUI_Chicken Dishes', 'CUI_Chinese', 'CUI_Desserts', \n",
    "                                       'CUI_Healthy', 'CUI_Indian', 'CUI_Italian', 'CUI_Japanese', \n",
    "                                       'CUI_Noodle Dishes', 'CUI_OTHER', 'CUI_Street Food / Snacks', \n",
    "                                       'CUI_Thai', 'engagement_duration', 'tot_value_cui', \n",
    "                                       'preferred_order_day', 'preferred_order_hour', \n",
    "                                       'age_category']\n",
    "\n",
    "print('cluster_features', cluster_features)"
   ]
  },
  {
   "cell_type": "code",
   "execution_count": 5,
   "metadata": {},
   "outputs": [
    {
     "name": "stdout",
     "output_type": "stream",
     "text": [
      "vendor_count                float64\n",
      "is_chain                    float64\n",
      "first_order                 float64\n",
      "last_order                  float64\n",
      "CUI_American                float64\n",
      "CUI_Asian                   float64\n",
      "CUI_Beverages               float64\n",
      "CUI_Cafe                    float64\n",
      "CUI_Chicken Dishes          float64\n",
      "CUI_Chinese                 float64\n",
      "CUI_Desserts                float64\n",
      "CUI_Healthy                 float64\n",
      "CUI_Indian                  float64\n",
      "CUI_Italian                 float64\n",
      "CUI_Japanese                float64\n",
      "CUI_Noodle Dishes           float64\n",
      "CUI_OTHER                   float64\n",
      "CUI_Street Food / Snacks    float64\n",
      "CUI_Thai                    float64\n",
      "engagement_duration           int64\n",
      "tot_value_cui               float64\n",
      "preferred_order_day           int64\n",
      "preferred_order_hour          int64\n",
      "age_category                  int64\n",
      "dtype: object\n"
     ]
    }
   ],
   "source": [
    "print(df[cluster_features].dtypes)"
   ]
  },
  {
   "cell_type": "markdown",
   "metadata": {},
   "source": [
    "With this we can confirm that all features features are numeric (`float64` and `int64`)"
   ]
  },
  {
   "cell_type": "code",
   "execution_count": 6,
   "metadata": {},
   "outputs": [
    {
     "name": "stdout",
     "output_type": "stream",
     "text": [
      "(31875, 24)\n"
     ]
    }
   ],
   "source": [
    "print(df.shape)  "
   ]
  },
  {
   "cell_type": "code",
   "execution_count": 7,
   "metadata": {},
   "outputs": [
    {
     "name": "stdout",
     "output_type": "stream",
     "text": [
      "['vendor_count', 'is_chain', 'first_order', 'last_order', 'CUI_American', 'CUI_Asian', 'CUI_Beverages', 'CUI_Cafe', 'CUI_Chicken Dishes', 'CUI_Chinese', 'CUI_Desserts', 'CUI_Healthy', 'CUI_Indian', 'CUI_Italian', 'CUI_Japanese', 'CUI_Noodle Dishes', 'CUI_OTHER', 'CUI_Street Food / Snacks', 'CUI_Thai', 'engagement_duration', 'tot_value_cui', 'preferred_order_day', 'preferred_order_hour', 'age_category']\n"
     ]
    }
   ],
   "source": [
    "print(cluster_features) "
   ]
  },
  {
   "cell_type": "markdown",
   "metadata": {},
   "source": [
    "### Hierarchical Clustering "
   ]
  },
  {
   "cell_type": "markdown",
   "metadata": {},
   "source": [
    "Linkage Matrix"
   ]
  },
  {
   "cell_type": "code",
   "execution_count": 8,
   "metadata": {},
   "outputs": [],
   "source": [
    "linkage_matrix = linkage(df[cluster_features].to_numpy(), method='ward')"
   ]
  },
  {
   "cell_type": "markdown",
   "metadata": {},
   "source": [
    "Dendrogram"
   ]
  },
  {
   "cell_type": "code",
   "execution_count": 9,
   "metadata": {},
   "outputs": [
    {
     "data": {
      "image/png": "[encoded data removed]",
      "text/plain": [
       "<Figure size 1200x800 with 1 Axes>"
      ]
     },
     "metadata": {},
     "output_type": "display_data"
    }
   ],
   "source": [
    "plt.figure(figsize=(12, 8))\n",
    "dendrogram(\n",
    "    linkage_matrix,\n",
    "    truncate_mode='lastp',  \n",
    "    p=30, \n",
    "    leaf_rotation=90.,\n",
    "    leaf_font_size=12.,\n",
    "    show_contracted=True)\n",
    "\n",
    "plt.axhline(y=4000, color='r', linestyle='--') \n",
    "\n",
    "plt.title(\"Hierarchical Clustering Dendrogram\")\n",
    "plt.xlabel(\"Samples\")\n",
    "plt.ylabel(\"Distance\")\n",
    "plt.show()"
   ]
  },
  {
   "cell_type": "markdown",
   "metadata": {},
   "source": [
    "Number of clusters"
   ]
  },
  {
   "cell_type": "code",
   "execution_count": 10,
   "metadata": {},
   "outputs": [],
   "source": [
    "cluster_labels = fcluster(linkage_matrix, t=4000, criterion='distance')"
   ]
  },
  {
   "cell_type": "code",
   "execution_count": 11,
   "metadata": {},
   "outputs": [
    {
     "name": "stdout",
     "output_type": "stream",
     "text": [
      "Cluster\n",
      "3    13865\n",
      "5     8163\n",
      "4     5885\n",
      "2     2882\n",
      "1     1080\n",
      "Name: count, dtype: int64\n"
     ]
    }
   ],
   "source": [
    "df['Cluster'] = cluster_labels\n",
    "print(df['Cluster'].value_counts())"
   ]
  },
  {
   "cell_type": "markdown",
   "metadata": {},
   "source": [
    "##### 1. Dendrogram\n",
    "The dendrogram was generated using the **Ward's Linkage** method, which minimizes the variation within clusters. \n",
    "- The red line represents the **cut-off height** defined at `t=4000`.\n",
    "- This line determines the number of clusters by \"cutting\" the dendrogram.\n",
    "- The branches below the red line correspond to the formed clusters.\n",
    "\n",
    "##### 2. Clusters\n",
    "**5 clusters** were identified, with the following sizes:\n",
    "\n",
    "| Cluster | Number of Samples |\n",
    "|---------|--------------------|\n",
    "| 1       | 1080                |\n",
    "| 2       | 2882             |\n",
    "| 3       | 13865             |\n",
    "| 4       | 5885             |\n",
    "| 5       | 8163             |\n"
   ]
  },
  {
   "cell_type": "markdown",
   "metadata": {},
   "source": [
    "### Cluster Analysis: \n",
    "The following variables were analyzed across clusters:\n",
    "- `vendor_count`\n",
    "- `is_chain`\n",
    "- `first_order`\n",
    "- `last_order`\n",
    "- `engagement_duration`\n",
    "- `tot_value_cui`\n",
    "- `preferred_order_day`\n",
    "- `preferred_order_hour`\n",
    "- `age_category`\n",
    "\n",
    "This analysis focuses on identifying patterns and differences in these variables among the clusters."
   ]
  },
  {
   "cell_type": "code",
   "execution_count": 19,
   "metadata": {},
   "outputs": [
    {
     "name": "stdout",
     "output_type": "stream",
     "text": [
      "Analysis of Other Variables by Cluster:\n",
      "         vendor_count  is_chain  first_order  last_order  engagement_duration  \\\n",
      "Cluster                                                                         \n",
      "1            9.006481  9.367593     9.528704   82.296296            72.767593   \n",
      "2            5.915337  5.749480    12.465649   80.564192            68.098543   \n",
      "3            3.542806  3.325279    19.789903   72.539776            52.749874   \n",
      "4            1.660153  1.165166    66.836364   74.950552             8.114189   \n",
      "5            1.618890  1.251746    23.340071   32.052309             8.712238   \n",
      "\n",
      "         tot_value_cui  preferred_order_day  preferred_order_hour  \\\n",
      "Cluster                                                             \n",
      "1           210.046037             2.725926             10.559259   \n",
      "2            96.535448             2.625607             10.096114   \n",
      "3            34.476383             2.536819             11.528597   \n",
      "4            18.008479             2.790654             11.707052   \n",
      "5            16.124049             2.828862             11.871983   \n",
      "\n",
      "         age_category  \n",
      "Cluster                \n",
      "1           29.124074  \n",
      "2           28.869188  \n",
      "3           28.542373  \n",
      "4           29.193203  \n",
      "5           28.618033  \n"
     ]
    }
   ],
   "source": [
    "other_columns = [\n",
    "    'vendor_count', 'is_chain', 'first_order', 'last_order',\n",
    "    'engagement_duration', 'tot_value_cui', \n",
    "    'preferred_order_day', 'preferred_order_hour', 'age_category' ]\n",
    "\n",
    "other_analysis = cluster_analysis[other_columns]\n",
    "print(\"Analysis of Other Variables by Cluster:\")\n",
    "print(other_analysis)"
   ]
  },
  {
   "cell_type": "markdown",
   "metadata": {},
   "source": [
    "The following cuisine-related variables were analyzed across clusters:\n",
    "- `CUI_American`\n",
    "- `CUI_Asian`\n",
    "- `CUI_Beverages`\n",
    "- `CUI_Cafe`\n",
    "- `CUI_Chicken Dishes`\n",
    "- `CUI_Chinese`\n",
    "- `CUI_Healthy`\n",
    "- `CUI_Indian`\n",
    "- `CUI_Italian`\n",
    "- `CUI_Japanese`\n",
    "- `CUI_Noodle Dishes`\n",
    "- `CUI_OTHER`\n",
    "- `CUI_Street Food / Snacks`\n",
    "- `CUI_Thai`"
   ]
  },
  {
   "cell_type": "code",
   "execution_count": 18,
   "metadata": {},
   "outputs": [
    {
     "name": "stdout",
     "output_type": "stream",
     "text": [
      "Cuisine Analysis by Cluster:\n",
      "         CUI_American  CUI_Asian  CUI_Beverages  CUI_Cafe  CUI_Chicken Dishes  \\\n",
      "Cluster                                                                         \n",
      "1           20.462611  66.895481       5.814741  7.886620            1.555028   \n",
      "2           12.822776  29.749080       5.977228  1.678796            0.945066   \n",
      "3            4.596865   7.584333       2.291559  0.625016            1.074080   \n",
      "4            2.158909   3.773947       1.254257  0.317162            0.347636   \n",
      "5            2.445832   3.917059       1.298034  0.203271            0.386130   \n",
      "\n",
      "         CUI_Chinese  CUI_Healthy  CUI_Indian  CUI_Italian  CUI_Japanese  \\\n",
      "Cluster                                                                    \n",
      "1           7.873620     3.312620    7.484769    15.633759     12.891333   \n",
      "2           2.151461     3.116707    1.660892     7.499025      8.779473   \n",
      "3           1.601034     0.807835    1.897088     3.076501      2.495436   \n",
      "4           0.503801     0.507303    0.986782     2.053322      1.755312   \n",
      "5           0.707026     0.435377    0.861648     1.209221      1.389706   \n",
      "\n",
      "         CUI_Noodle Dishes  CUI_OTHER  CUI_Street Food / Snacks  CUI_Thai  \n",
      "Cluster                                                                    \n",
      "1                 1.674546  15.043287                 35.083130  3.366213  \n",
      "2                 1.321426   6.083765                 10.629466  1.972054  \n",
      "3                 0.903027   2.948149                  2.985078  0.938452  \n",
      "4                 0.198817   1.790133                  1.524889  0.340644  \n",
      "5                 0.414866   1.282624                  0.705346  0.306838  \n"
     ]
    }
   ],
   "source": [
    "cuisine_columns = [\n",
    "    'CUI_American', 'CUI_Asian', 'CUI_Beverages', 'CUI_Cafe',\n",
    "    'CUI_Chicken Dishes', 'CUI_Chinese', 'CUI_Healthy',\n",
    "    'CUI_Indian', 'CUI_Italian', 'CUI_Japanese', \n",
    "    'CUI_Noodle Dishes', 'CUI_OTHER', 'CUI_Street Food / Snacks', \n",
    "    'CUI_Thai']\n",
    "\n",
    "cuisine_analysis = cluster_analysis[cuisine_columns]\n",
    "print(\"Cuisine Analysis by Cluster:\")\n",
    "print(cuisine_analysis)"
   ]
  },
  {
   "cell_type": "markdown",
   "metadata": {},
   "source": [
    "# Cluster Analysis Summary\n",
    "\n",
    "| **Cluster** | **Vendor Count** | **Is Chain** | **First Order** | **Last Order** | **Engagement Duration** | **Total Value** | **Preferred Order Day** | **Preferred Order Hour** | **Age Category** | **Top Cuisines**                | **Conclusion**                                                                 |\n",
    "|-------------|------------------|--------------|------------------|----------------|--------------------------|-----------------|--------------------------|--------------------------|------------------|----------------------------------|--------------------------------------------------------------------------------|\n",
    "| **1**       | 9.01             | 9.37         | 9.53             | 82.30          | 72.77                   | 210.05          | 2.73                     | 10.56                    | 29.12           | Asian, American, Snacks         | High-spending, loyal customers, mostly aged around 29 years, with high engagement, preferring Asian cuisine, snacks, and morning orders. |\n",
    "| **2**       | 5.91             | 5.74         | 12.46            | 80.56          | 68.10                   | 96.54           | 2.63                     | 10.10                    | 28.87           | Asian, American                 | Moderately spending customers, aged around 28 years, with steady engagement, preferring Asian and American cuisines and morning orders. |\n",
    "| **3**       | 3.54             | 3.32         | 19.79            | 72.54          | 52.75                   | 34.48           | 2.54                     | 11.53                    | 28.54           | Asian, American                 | Low-spending, moderately engaged customers, aged around 28 years, with delayed first orders, preferring Asian cuisine and mid-morning orders. |\n",
    "| **4**       | 1.66             | 1.16         | 66.83            | 74.95          | 8.11                    | 18.01           | 2.79                     | 11.71                    | 29.19           | Asian, American                 | Inactive customers, mostly aged around 29 years, with very low spending and engagement, preferring occasional Asian cuisine and late-morning orders. |\n",
    "| **5**       | 1.62             | 1.25         | 23.34            | 32.05          | 8.71                    | 16.12           | 2.83                     | 11.87                    | 28.62           | Asian, American                 | New or disengaged customers, aged around 28 years, with minimal spending and low engagement, preferring Asian cuisine and late-morning orders. |\n",
    "\n"
   ]
  },
  {
   "cell_type": "markdown",
   "metadata": {},
   "source": [
    "### 2. K-Means ###"
   ]
  },
  {
   "cell_type": "markdown",
   "metadata": {},
   "source": [
    "### 3. DBSCAN (Density-based spatial clustering of applications with noise)\n",
    "### Testeeeeeee"
   ]
  },
  {
   "cell_type": "code",
   "execution_count": 13,
   "metadata": {},
   "outputs": [],
   "source": [
    "# Splitting feature names into groups\n",
    "# Remember which metric_features we decided to keep?\n",
    "metric_features = df.select_dtypes(include=['number']).columns.tolist()\n",
    "\n",
    "# Identify non-metric (categorical) features\n",
    "non_metric_features = df.select_dtypes(exclude=['number']).columns.tolist()\n",
    "pc_features = df.columns[df.columns.str.startswith('PC')].tolist()  \n",
    "\n",
    "unused_features = [i for i in df.columns if i not in (metric_features+non_metric_features+pc_features) ]"
   ]
  },
  {
   "cell_type": "code",
   "execution_count": 14,
   "metadata": {},
   "outputs": [
    {
     "name": "stdout",
     "output_type": "stream",
     "text": [
      "metric_features: ['vendor_count', 'is_chain', 'first_order', 'last_order', 'CUI_American', 'CUI_Asian', 'CUI_Beverages', 'CUI_Cafe', 'CUI_Chicken Dishes', 'CUI_Chinese', 'CUI_Desserts', 'CUI_Healthy', 'CUI_Indian', 'CUI_Italian', 'CUI_Japanese', 'CUI_Noodle Dishes', 'CUI_OTHER', 'CUI_Street Food / Snacks', 'CUI_Thai', 'engagement_duration', 'tot_value_cui', 'preferred_order_day', 'preferred_order_hour', 'age_category', 'Cluster']\n",
      "\n",
      "non_metric_features: []\n",
      "\n",
      "unused_features: []\n",
      "\n",
      "pc_features: []\n"
     ]
    }
   ],
   "source": [
    "print('metric_features:', metric_features)\n",
    "print('\\nnon_metric_features:', non_metric_features)\n",
    "print('\\nunused_features:', unused_features)\n",
    "print('\\npc_features:', pc_features)"
   ]
  },
  {
   "cell_type": "code",
   "execution_count": 15,
   "metadata": {},
   "outputs": [
    {
     "name": "stdout",
     "output_type": "stream",
     "text": [
      "Series([], dtype: int64)\n"
     ]
    }
   ],
   "source": [
    "# Display only columns with missing values\n",
    "missing_values_all = df.isnull().sum()\n",
    "missing_values = missing_values_all[missing_values_all > 0]\n",
    "\n",
    "# Display the columns with missing values\n",
    "print(missing_values)"
   ]
  },
  {
   "cell_type": "code",
   "execution_count": 16,
   "metadata": {},
   "outputs": [
    {
     "data": {
      "image/png": "[encoded data removed]",
      "text/plain": [
       "<Figure size 640x480 with 1 Axes>"
      ]
     },
     "metadata": {},
     "output_type": "display_data"
    }
   ],
   "source": [
    "from sklearn.neighbors import NearestNeighbors\n",
    "import matplotlib.pyplot as plt\n",
    "import numpy as np\n",
    "\n",
    "# Excluir a feature \"avg_order_frequency\" das metric features\n",
    "features_for_distance = [feature for feature in metric_features if feature != \"avg_order_frequency\"]\n",
    "\n",
    "# Calcular as distâncias dos k-vizinhos mais próximos\n",
    "neigh = NearestNeighbors(n_neighbors=20)\n",
    "neigh.fit(df[features_for_distance])\n",
    "distances, _ = neigh.kneighbors(df[features_for_distance])\n",
    "\n",
    "# Ordenar as distâncias\n",
    "distances = np.sort(distances[:, -1])\n",
    "\n",
    "# Plotar o gráfico das distâncias\n",
    "plt.plot(distances)\n",
    "plt.xlabel('Pontos de dados')\n",
    "plt.ylabel('Distância do 20º vizinho mais próximo')\n",
    "plt.title('Gráfico de distâncias dos k-vizinhos mais próximos (sem \"avg_order_frequency\")')\n",
    "\n",
    "# Alterar os limites do eixo y para 0 a 160\n",
    "plt.ylim(0, 160)\n",
    "\n",
    "plt.show()\n"
   ]
  },
  {
   "cell_type": "code",
   "execution_count": 17,
   "metadata": {},
   "outputs": [
    {
     "ename": "NameError",
     "evalue": "name 'dbscan_labels' is not defined",
     "output_type": "error",
     "traceback": [
      "\u001b[0;31m---------------------------------------------------------------------------\u001b[0m",
      "\u001b[0;31mNameError\u001b[0m                                 Traceback (most recent call last)",
      "Cell \u001b[0;32mIn[17], line 2\u001b[0m\n\u001b[1;32m      1\u001b[0m \u001b[38;5;66;03m# Concatenating the labels to df\u001b[39;00m\n\u001b[0;32m----> 2\u001b[0m df_concat \u001b[38;5;241m=\u001b[39m pd\u001b[38;5;241m.\u001b[39mconcat([df[metric_features], pd\u001b[38;5;241m.\u001b[39mSeries(dbscan_labels, index\u001b[38;5;241m=\u001b[39mdf\u001b[38;5;241m.\u001b[39mindex, name\u001b[38;5;241m=\u001b[39m\u001b[38;5;124m\"\u001b[39m\u001b[38;5;124mdbscan_labels\u001b[39m\u001b[38;5;124m\"\u001b[39m)], axis\u001b[38;5;241m=\u001b[39m\u001b[38;5;241m1\u001b[39m)\n\u001b[1;32m      3\u001b[0m df_concat\u001b[38;5;241m.\u001b[39mhead()\n",
      "\u001b[0;31mNameError\u001b[0m: name 'dbscan_labels' is not defined"
     ]
    }
   ],
   "source": [
    "# Concatenating the labels to df\n",
    "df_concat = pd.concat([df[metric_features], pd.Series(dbscan_labels, index=df.index, name=\"dbscan_labels\")], axis=1)\n",
    "df_concat.head()"
   ]
  },
  {
   "cell_type": "code",
   "execution_count": 88,
   "metadata": {},
   "outputs": [
    {
     "name": "stdout",
     "output_type": "stream",
     "text": [
      "Number of estimated clusters : 8\n"
     ]
    }
   ],
   "source": [
    "# Excluir a feature \"total_value_cui\" ao selecionar as features para o clustering\n",
    "features_for_clustering = [feature for feature in metric_features if feature != \"avg_order_frequency\"]\n",
    "\n",
    "# Perform DBSCAN clustering\n",
    "dbscan = DBSCAN(eps=40, min_samples=25, n_jobs=4)\n",
    "dbscan_labels = dbscan.fit_predict(df[features_for_clustering])\n",
    "\n",
    "dbscan_n_clusters = len(np.unique(dbscan_labels))\n",
    "print(\"Number of estimated clusters : %d\" % dbscan_n_clusters)\n",
    "\n",
    "#usei o eps=40 por causa do grafico\n",
    "#usei min_samples=25 porque deve ser 2xdim e deve ser mais ou menos isso\n"
   ]
  },
  {
   "cell_type": "code",
   "execution_count": 89,
   "metadata": {},
   "outputs": [
    {
     "data": {
      "text/plain": [
       "array([-1,  0,  1,  2,  3,  4,  5,  6])"
      ]
     },
     "execution_count": 89,
     "metadata": {},
     "output_type": "execute_result"
    }
   ],
   "source": [
    "np.unique(dbscan_labels)\n"
   ]
  },
  {
   "cell_type": "code",
   "execution_count": null,
   "metadata": {},
   "outputs": [],
   "source": []
  }
 ],
 "metadata": {
  "kernelspec": {
   "display_name": "base",
   "language": "python",
   "name": "python3"
  },
  "language_info": {
   "codemirror_mode": {
    "name": "ipython",
    "version": 3
   },
   "file_extension": ".py",
   "mimetype": "text/x-python",
   "name": "python",
   "nbconvert_exporter": "python",
   "pygments_lexer": "ipython3",
   "version": "3.12.2"
  }
 },
 "nbformat": 4,
 "nbformat_minor": 2
}
