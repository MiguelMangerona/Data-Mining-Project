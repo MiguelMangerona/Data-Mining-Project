{
 "cells": [
  {
   "cell_type": "markdown",
   "metadata": {},
   "source": [
    "# Clustering \n",
    "1. Hierarchical clustering\n",
    "2. K-means clustering\n",
    "3. DBScanner clustering"
   ]
  },
  {
   "cell_type": "markdown",
   "metadata": {},
   "source": [
    "#### Importing necessary libraries"
   ]
  },
  {
   "cell_type": "code",
   "execution_count": 56,
   "metadata": {},
   "outputs": [],
   "source": [
    "import pandas as pd\n",
    "import numpy as np\n",
    "from sklearn.preprocessing import StandardScaler\n",
    "from sklearn.cluster import AgglomerativeClustering\n",
    "from sklearn.metrics import silhouette_score\n",
    "from sklearn.cluster import MeanShift, DBSCAN, estimate_bandwidth #\n",
    "from sklearn.neighbors import NearestNeighbors #\n",
    "from sklearn.mixture import GaussianMixture #\n",
    "from scipy.cluster.hierarchy import dendrogram, linkage, fcluster\n",
    "import matplotlib.pyplot as plt\n",
    "import seaborn as sns \n",
    "from scipy.spatial.distance import pdist, squareform\n"
   ]
  },
  {
   "cell_type": "code",
   "execution_count": 57,
   "metadata": {},
   "outputs": [],
   "source": [
    "df = pd.read_csv('Processed_Data.csv')"
   ]
  },
  {
   "cell_type": "code",
   "execution_count": 58,
   "metadata": {},
   "outputs": [
    {
     "data": {
      "text/html": [
       "<div>\n",
       "<style scoped>\n",
       "    .dataframe tbody tr th:only-of-type {\n",
       "        vertical-align: middle;\n",
       "    }\n",
       "\n",
       "    .dataframe tbody tr th {\n",
       "        vertical-align: top;\n",
       "    }\n",
       "\n",
       "    .dataframe thead th {\n",
       "        text-align: right;\n",
       "    }\n",
       "</style>\n",
       "<table border=\"1\" class=\"dataframe\">\n",
       "  <thead>\n",
       "    <tr style=\"text-align: right;\">\n",
       "      <th></th>\n",
       "      <th>customer_id</th>\n",
       "      <th>customer_region</th>\n",
       "      <th>customer_age</th>\n",
       "      <th>vendor_count</th>\n",
       "      <th>product_count</th>\n",
       "      <th>is_chain</th>\n",
       "      <th>first_order</th>\n",
       "      <th>last_order</th>\n",
       "      <th>last_promo</th>\n",
       "      <th>payment_method</th>\n",
       "      <th>...</th>\n",
       "      <th>HR_22</th>\n",
       "      <th>HR_23</th>\n",
       "      <th>customer_city</th>\n",
       "      <th>chain_category</th>\n",
       "      <th>engagement_duration</th>\n",
       "      <th>avg_order_frequency</th>\n",
       "      <th>tot_value_cui</th>\n",
       "      <th>preferred_order_day</th>\n",
       "      <th>preferred_order_hour</th>\n",
       "      <th>age_category</th>\n",
       "    </tr>\n",
       "  </thead>\n",
       "  <tbody>\n",
       "    <tr>\n",
       "      <th>0</th>\n",
       "      <td>1b8f824d5e</td>\n",
       "      <td>2360</td>\n",
       "      <td>18</td>\n",
       "      <td>2.00</td>\n",
       "      <td>5.00</td>\n",
       "      <td>1.00</td>\n",
       "      <td>0.00</td>\n",
       "      <td>1.00</td>\n",
       "      <td>DELIVERY</td>\n",
       "      <td>DIGI</td>\n",
       "      <td>...</td>\n",
       "      <td>0.00</td>\n",
       "      <td>0.00</td>\n",
       "      <td>2</td>\n",
       "      <td>Large Chain</td>\n",
       "      <td>1</td>\n",
       "      <td>5.00</td>\n",
       "      <td>28.88</td>\n",
       "      <td>0</td>\n",
       "      <td>18</td>\n",
       "      <td>26</td>\n",
       "    </tr>\n",
       "    <tr>\n",
       "      <th>1</th>\n",
       "      <td>5d272b9dcb</td>\n",
       "      <td>8670</td>\n",
       "      <td>17</td>\n",
       "      <td>2.00</td>\n",
       "      <td>2.00</td>\n",
       "      <td>2.00</td>\n",
       "      <td>0.00</td>\n",
       "      <td>1.00</td>\n",
       "      <td>DISCOUNT</td>\n",
       "      <td>DIGI</td>\n",
       "      <td>...</td>\n",
       "      <td>0.00</td>\n",
       "      <td>0.00</td>\n",
       "      <td>8</td>\n",
       "      <td>Large Chain</td>\n",
       "      <td>1</td>\n",
       "      <td>2.00</td>\n",
       "      <td>19.21</td>\n",
       "      <td>0</td>\n",
       "      <td>10</td>\n",
       "      <td>16</td>\n",
       "    </tr>\n",
       "    <tr>\n",
       "      <th>2</th>\n",
       "      <td>f6d1b2ba63</td>\n",
       "      <td>4660</td>\n",
       "      <td>38</td>\n",
       "      <td>1.00</td>\n",
       "      <td>2.00</td>\n",
       "      <td>2.00</td>\n",
       "      <td>0.00</td>\n",
       "      <td>1.00</td>\n",
       "      <td>DISCOUNT</td>\n",
       "      <td>CASH</td>\n",
       "      <td>...</td>\n",
       "      <td>0.00</td>\n",
       "      <td>0.00</td>\n",
       "      <td>4</td>\n",
       "      <td>Large Chain</td>\n",
       "      <td>1</td>\n",
       "      <td>2.00</td>\n",
       "      <td>9.20</td>\n",
       "      <td>0</td>\n",
       "      <td>9</td>\n",
       "      <td>42</td>\n",
       "    </tr>\n",
       "    <tr>\n",
       "      <th>3</th>\n",
       "      <td>180c632ed8</td>\n",
       "      <td>4660</td>\n",
       "      <td>24</td>\n",
       "      <td>2.00</td>\n",
       "      <td>3.00</td>\n",
       "      <td>1.00</td>\n",
       "      <td>0.00</td>\n",
       "      <td>2.00</td>\n",
       "      <td>DELIVERY</td>\n",
       "      <td>DIGI</td>\n",
       "      <td>...</td>\n",
       "      <td>0.00</td>\n",
       "      <td>0.00</td>\n",
       "      <td>4</td>\n",
       "      <td>Large Chain</td>\n",
       "      <td>2</td>\n",
       "      <td>1.50</td>\n",
       "      <td>31.56</td>\n",
       "      <td>1</td>\n",
       "      <td>11</td>\n",
       "      <td>26</td>\n",
       "    </tr>\n",
       "    <tr>\n",
       "      <th>4</th>\n",
       "      <td>4eb37a6705</td>\n",
       "      <td>4660</td>\n",
       "      <td>20</td>\n",
       "      <td>2.00</td>\n",
       "      <td>5.00</td>\n",
       "      <td>0.00</td>\n",
       "      <td>0.00</td>\n",
       "      <td>2.00</td>\n",
       "      <td>No promo</td>\n",
       "      <td>DIGI</td>\n",
       "      <td>...</td>\n",
       "      <td>0.00</td>\n",
       "      <td>0.00</td>\n",
       "      <td>4</td>\n",
       "      <td>Non-Chain</td>\n",
       "      <td>2</td>\n",
       "      <td>2.50</td>\n",
       "      <td>55.44</td>\n",
       "      <td>1</td>\n",
       "      <td>8</td>\n",
       "      <td>26</td>\n",
       "    </tr>\n",
       "  </tbody>\n",
       "</table>\n",
       "<p>5 rows × 64 columns</p>\n",
       "</div>"
      ],
      "text/plain": [
       "  customer_id  customer_region  customer_age  vendor_count  product_count  \\\n",
       "0  1b8f824d5e             2360            18          2.00           5.00   \n",
       "1  5d272b9dcb             8670            17          2.00           2.00   \n",
       "2  f6d1b2ba63             4660            38          1.00           2.00   \n",
       "3  180c632ed8             4660            24          2.00           3.00   \n",
       "4  4eb37a6705             4660            20          2.00           5.00   \n",
       "\n",
       "   is_chain  first_order  last_order last_promo payment_method  ...  HR_22  \\\n",
       "0      1.00         0.00        1.00   DELIVERY           DIGI  ...   0.00   \n",
       "1      2.00         0.00        1.00   DISCOUNT           DIGI  ...   0.00   \n",
       "2      2.00         0.00        1.00   DISCOUNT           CASH  ...   0.00   \n",
       "3      1.00         0.00        2.00   DELIVERY           DIGI  ...   0.00   \n",
       "4      0.00         0.00        2.00   No promo           DIGI  ...   0.00   \n",
       "\n",
       "   HR_23  customer_city  chain_category  engagement_duration  \\\n",
       "0   0.00              2     Large Chain                    1   \n",
       "1   0.00              8     Large Chain                    1   \n",
       "2   0.00              4     Large Chain                    1   \n",
       "3   0.00              4     Large Chain                    2   \n",
       "4   0.00              4       Non-Chain                    2   \n",
       "\n",
       "   avg_order_frequency  tot_value_cui  preferred_order_day  \\\n",
       "0                 5.00          28.88                    0   \n",
       "1                 2.00          19.21                    0   \n",
       "2                 2.00           9.20                    0   \n",
       "3                 1.50          31.56                    1   \n",
       "4                 2.50          55.44                    1   \n",
       "\n",
       "   preferred_order_hour  age_category  \n",
       "0                    18            26  \n",
       "1                    10            16  \n",
       "2                     9            42  \n",
       "3                    11            26  \n",
       "4                     8            26  \n",
       "\n",
       "[5 rows x 64 columns]"
      ]
     },
     "execution_count": 58,
     "metadata": {},
     "output_type": "execute_result"
    }
   ],
   "source": [
    "df.head(5)"
   ]
  },
  {
   "cell_type": "code",
   "execution_count": 72,
   "metadata": {},
   "outputs": [
    {
     "name": "stdout",
     "output_type": "stream",
     "text": [
      "cluster_features ['vendor_count', 'is_chain', 'first_order', 'last_order', 'CUI_American', 'CUI_Asian', 'CUI_Beverages', 'CUI_Cafe', 'CUI_Chicken Dishes', 'CUI_Chinese', 'CUI_Desserts', 'CUI_Healthy', 'CUI_Indian', 'CUI_Italian', 'CUI_Japanese', 'CUI_Noodle Dishes', 'CUI_OTHER', 'CUI_Street Food / Snacks', 'CUI_Thai', 'engagement_duration', 'tot_value_cui', 'preferred_order_day', 'preferred_order_hour', 'age_category']\n"
     ]
    }
   ],
   "source": [
    "cluster_features = ['vendor_count', 'is_chain', 'first_order', 'last_order', \n",
    "                                       'CUI_American', 'CUI_Asian', 'CUI_Beverages', 'CUI_Cafe',\n",
    "                                       'CUI_Chicken Dishes', 'CUI_Chinese', 'CUI_Desserts', \n",
    "                                       'CUI_Healthy', 'CUI_Indian', 'CUI_Italian', 'CUI_Japanese', \n",
    "                                       'CUI_Noodle Dishes', 'CUI_OTHER', 'CUI_Street Food / Snacks', \n",
    "                                       'CUI_Thai', 'engagement_duration', 'tot_value_cui', \n",
    "                                       'preferred_order_day', 'preferred_order_hour', \n",
    "                                       'age_category']\n",
    "\n",
    "print('cluster_features', cluster_features)"
   ]
  },
  {
   "cell_type": "code",
   "execution_count": 73,
   "metadata": {},
   "outputs": [
    {
     "name": "stdout",
     "output_type": "stream",
     "text": [
      "vendor_count                float64\n",
      "is_chain                    float64\n",
      "first_order                 float64\n",
      "last_order                  float64\n",
      "CUI_American                float64\n",
      "CUI_Asian                   float64\n",
      "CUI_Beverages               float64\n",
      "CUI_Cafe                    float64\n",
      "CUI_Chicken Dishes          float64\n",
      "CUI_Chinese                 float64\n",
      "CUI_Desserts                float64\n",
      "CUI_Healthy                 float64\n",
      "CUI_Indian                  float64\n",
      "CUI_Italian                 float64\n",
      "CUI_Japanese                float64\n",
      "CUI_Noodle Dishes           float64\n",
      "CUI_OTHER                   float64\n",
      "CUI_Street Food / Snacks    float64\n",
      "CUI_Thai                    float64\n",
      "engagement_duration           int64\n",
      "tot_value_cui               float64\n",
      "preferred_order_day           int64\n",
      "preferred_order_hour          int64\n",
      "age_category                  int64\n",
      "dtype: object\n"
     ]
    }
   ],
   "source": [
    "print(df[cluster_features].dtypes)"
   ]
  },
  {
   "cell_type": "markdown",
   "metadata": {},
   "source": [
    "With this we can confirm that all features features are numeric (`float64` and `int64`)"
   ]
  },
  {
   "cell_type": "code",
   "execution_count": 70,
   "metadata": {},
   "outputs": [
    {
     "name": "stdout",
     "output_type": "stream",
     "text": [
      "(31875, 65)\n"
     ]
    }
   ],
   "source": [
    "print(df.shape)  "
   ]
  },
  {
   "cell_type": "code",
   "execution_count": 74,
   "metadata": {},
   "outputs": [
    {
     "name": "stdout",
     "output_type": "stream",
     "text": [
      "['vendor_count', 'is_chain', 'first_order', 'last_order', 'CUI_American', 'CUI_Asian', 'CUI_Beverages', 'CUI_Cafe', 'CUI_Chicken Dishes', 'CUI_Chinese', 'CUI_Desserts', 'CUI_Healthy', 'CUI_Indian', 'CUI_Italian', 'CUI_Japanese', 'CUI_Noodle Dishes', 'CUI_OTHER', 'CUI_Street Food / Snacks', 'CUI_Thai', 'engagement_duration', 'tot_value_cui', 'preferred_order_day', 'preferred_order_hour', 'age_category']\n"
     ]
    }
   ],
   "source": [
    "print(cluster_features) "
   ]
  },
  {
   "cell_type": "markdown",
   "metadata": {},
   "source": [
    "### Hierarchical Clustering "
   ]
  },
  {
   "cell_type": "markdown",
   "metadata": {},
   "source": [
    "##### Linkage Matrix"
   ]
  },
  {
   "cell_type": "code",
   "execution_count": 76,
   "metadata": {},
   "outputs": [],
   "source": [
    "linkage_matrix = linkage(df[cluster_features].to_numpy(), method='ward')"
   ]
  },
  {
   "cell_type": "code",
   "execution_count": 95,
   "metadata": {},
   "outputs": [
    {
     "data": {
      "image/png": "[encoded data removed]",
      "text/plain": [
       "<Figure size 1200x800 with 1 Axes>"
      ]
     },
     "metadata": {},
     "output_type": "display_data"
    }
   ],
   "source": [
    "# Dendrogram\n",
    "plt.figure(figsize=(12, 8))\n",
    "dendrogram(\n",
    "    linkage_matrix,\n",
    "    truncate_mode='lastp',  \n",
    "    p=30, \n",
    "    leaf_rotation=90.,\n",
    "    leaf_font_size=12.,\n",
    "    show_contracted=True)\n",
    "\n",
    "plt.axhline(y=4000, color='r', linestyle='--') \n",
    "\n",
    "plt.title(\"Hierarchical Clustering Dendrogram\")\n",
    "plt.xlabel(\"Samples\")\n",
    "plt.ylabel(\"Distance\")\n",
    "plt.show()"
   ]
  },
  {
   "cell_type": "code",
   "execution_count": 99,
   "metadata": {},
   "outputs": [],
   "source": [
    "cluster_labels = fcluster(linkage_matrix, t=4000, criterion='distance')"
   ]
  },
  {
   "cell_type": "code",
   "execution_count": 100,
   "metadata": {},
   "outputs": [
    {
     "name": "stdout",
     "output_type": "stream",
     "text": [
      "Cluster\n",
      "3    13865\n",
      "5     8163\n",
      "4     5885\n",
      "2     2882\n",
      "1     1080\n",
      "Name: count, dtype: int64\n"
     ]
    }
   ],
   "source": [
    "df['Cluster'] = cluster_labels\n",
    "print(df['Cluster'].value_counts())"
   ]
  },
  {
   "cell_type": "code",
   "execution_count": 101,
   "metadata": {},
   "outputs": [
    {
     "name": "stdout",
     "output_type": "stream",
     "text": [
      "         customer_region  customer_age  vendor_count  product_count  is_chain  \\\n",
      "Cluster                                                                         \n",
      "1                6713.80         28.00          9.01          26.18      9.37   \n",
      "2                6526.37         27.57          5.92          13.05      5.75   \n",
      "3                4895.07         27.39          3.54           5.95      3.33   \n",
      "4                5272.60         27.92          1.66           2.37      1.17   \n",
      "5                5067.87         27.32          1.62           2.24      1.25   \n",
      "\n",
      "         first_order  last_order  CUI_American  CUI_Asian  CUI_Beverages  ...  \\\n",
      "Cluster                                                                   ...   \n",
      "1               9.53       82.30         20.46      66.90           5.81  ...   \n",
      "2              12.47       80.56         12.82      29.75           5.98  ...   \n",
      "3              19.79       72.54          4.60       7.58           2.29  ...   \n",
      "4              66.84       74.95          2.16       3.77           1.25  ...   \n",
      "5              23.34       32.05          2.45       3.92           1.30  ...   \n",
      "\n",
      "         HR_21  HR_22  HR_23  customer_city  engagement_duration  \\\n",
      "Cluster                                                            \n",
      "1         0.14   0.16   0.21           6.09                72.77   \n",
      "2         0.10   0.09   0.09           5.91                68.10   \n",
      "3         0.10   0.06   0.05           4.36                52.75   \n",
      "4         0.03   0.02   0.02           4.72                 8.11   \n",
      "5         0.04   0.02   0.02           4.53                 8.71   \n",
      "\n",
      "         avg_order_frequency  tot_value_cui  preferred_order_day  \\\n",
      "Cluster                                                            \n",
      "1                        inf         210.05                 2.73   \n",
      "2                        inf          96.54                 2.63   \n",
      "3                        inf          34.48                 2.54   \n",
      "4                        inf          18.01                 2.79   \n",
      "5                        inf          16.12                 2.83   \n",
      "\n",
      "         preferred_order_hour  age_category  \n",
      "Cluster                                      \n",
      "1                       10.56         29.12  \n",
      "2                       10.10         28.87  \n",
      "3                       11.53         28.54  \n",
      "4                       11.71         29.19  \n",
      "5                       11.87         28.62  \n",
      "\n",
      "[5 rows x 60 columns]\n"
     ]
    }
   ],
   "source": [
    "cluster_analysis = df[cluster_features].groupby(df['Cluster']).mean()\n",
    "\n",
    "print(cluster_analysis)"
   ]
  },
  {
   "cell_type": "markdown",
   "metadata": {},
   "source": [
    "### 1. Dendrogram\n",
    "The dendrogram was generated using the **Ward's Linkage** method, which minimizes the variation within clusters. \n",
    "- The red line represents the **cut-off height** defined at `t=150`.\n",
    "- This line determines the number of clusters by \"cutting\" the dendrogram.\n",
    "- The branches below the red line correspond to the formed clusters.\n",
    "\n",
    "### 2. Formed Clusters\n",
    "**5 clusters** were identified, with the following sizes:\n",
    "\n",
    "| Cluster | Number of Samples |\n",
    "|---------|--------------------|\n",
    "| 1       | 860                |\n",
    "| 2       | 11,382             |\n",
    "| 3       | 5,113              |\n",
    "| 4       | 6,428              |\n",
    "| 5       | 8,092              |\n"
   ]
  },
  {
   "cell_type": "code",
   "execution_count": null,
   "metadata": {},
   "outputs": [],
   "source": []
  },
  {
   "cell_type": "code",
   "execution_count": null,
   "metadata": {},
   "outputs": [],
   "source": []
  },
  {
   "cell_type": "code",
   "execution_count": null,
   "metadata": {},
   "outputs": [],
   "source": []
  },
  {
   "cell_type": "code",
   "execution_count": null,
   "metadata": {},
   "outputs": [],
   "source": []
  },
  {
   "cell_type": "code",
   "execution_count": null,
   "metadata": {},
   "outputs": [],
   "source": []
  },
  {
   "cell_type": "code",
   "execution_count": null,
   "metadata": {},
   "outputs": [],
   "source": []
  },
  {
   "cell_type": "code",
   "execution_count": null,
   "metadata": {},
   "outputs": [],
   "source": []
  },
  {
   "cell_type": "code",
   "execution_count": null,
   "metadata": {},
   "outputs": [],
   "source": []
  },
  {
   "cell_type": "markdown",
   "metadata": {},
   "source": [
    "### 2. K-Means ###"
   ]
  },
  {
   "cell_type": "markdown",
   "metadata": {},
   "source": [
    "### 3. DBSCAN (Density-based spatial clustering of applications with noise)\n",
    "### Testeeeeeee"
   ]
  },
  {
   "cell_type": "code",
   "execution_count": 65,
   "metadata": {},
   "outputs": [],
   "source": [
    "# Splitting feature names into groups\n",
    "# Remember which metric_features we decided to keep?\n",
    "metric_features = df.select_dtypes(include=['number']).columns.tolist()\n",
    "\n",
    "# Identify non-metric (categorical) features\n",
    "non_metric_features = df.select_dtypes(exclude=['number']).columns.tolist()\n",
    "pc_features = df.columns[df.columns.str.startswith('PC')].tolist()  \n",
    "\n",
    "unused_features = [i for i in df.columns if i not in (metric_features+non_metric_features+pc_features) ]"
   ]
  },
  {
   "cell_type": "code",
   "execution_count": 66,
   "metadata": {},
   "outputs": [
    {
     "name": "stdout",
     "output_type": "stream",
     "text": [
      "metric_features: ['customer_region', 'customer_age', 'vendor_count', 'product_count', 'is_chain', 'first_order', 'last_order', 'CUI_American', 'CUI_Asian', 'CUI_Beverages', 'CUI_Cafe', 'CUI_Chicken Dishes', 'CUI_Chinese', 'CUI_Desserts', 'CUI_Healthy', 'CUI_Indian', 'CUI_Italian', 'CUI_Japanese', 'CUI_Noodle Dishes', 'CUI_OTHER', 'CUI_Street Food / Snacks', 'CUI_Thai', 'DOW_0', 'DOW_1', 'DOW_2', 'DOW_3', 'DOW_4', 'DOW_5', 'DOW_6', 'HR_0', 'HR_1', 'HR_2', 'HR_3', 'HR_4', 'HR_5', 'HR_6', 'HR_7', 'HR_8', 'HR_9', 'HR_10', 'HR_11', 'HR_12', 'HR_13', 'HR_14', 'HR_15', 'HR_16', 'HR_17', 'HR_18', 'HR_19', 'HR_20', 'HR_21', 'HR_22', 'HR_23', 'customer_city', 'engagement_duration', 'avg_order_frequency', 'tot_value_cui', 'preferred_order_day', 'preferred_order_hour', 'age_category', 'Cluster']\n",
      "\n",
      "non_metric_features: ['customer_id', 'last_promo', 'payment_method', 'chain_category']\n",
      "\n",
      "unused_features: []\n",
      "\n",
      "pc_features: []\n"
     ]
    }
   ],
   "source": [
    "print('metric_features:', metric_features)\n",
    "print('\\nnon_metric_features:', non_metric_features)\n",
    "print('\\nunused_features:', unused_features)\n",
    "print('\\npc_features:', pc_features)"
   ]
  },
  {
   "cell_type": "code",
   "execution_count": 67,
   "metadata": {},
   "outputs": [
    {
     "name": "stdout",
     "output_type": "stream",
     "text": [
      "avg_order_frequency    156\n",
      "dtype: int64\n"
     ]
    }
   ],
   "source": [
    "# Display only columns with missing values\n",
    "missing_values_all = df.isnull().sum()\n",
    "missing_values = missing_values_all[missing_values_all > 0]\n",
    "\n",
    "# Display the columns with missing values\n",
    "print(missing_values)"
   ]
  },
  {
   "cell_type": "code",
   "execution_count": 68,
   "metadata": {},
   "outputs": [
    {
     "data": {
      "image/png": "[encoded data removed]",
      "text/plain": [
       "<Figure size 640x480 with 1 Axes>"
      ]
     },
     "metadata": {},
     "output_type": "display_data"
    }
   ],
   "source": [
    "from sklearn.neighbors import NearestNeighbors\n",
    "import matplotlib.pyplot as plt\n",
    "import numpy as np\n",
    "\n",
    "# Excluir a feature \"avg_order_frequency\" das metric features\n",
    "features_for_distance = [feature for feature in metric_features if feature != \"avg_order_frequency\"]\n",
    "\n",
    "# Calcular as distâncias dos k-vizinhos mais próximos\n",
    "neigh = NearestNeighbors(n_neighbors=20)\n",
    "neigh.fit(df[features_for_distance])\n",
    "distances, _ = neigh.kneighbors(df[features_for_distance])\n",
    "\n",
    "# Ordenar as distâncias\n",
    "distances = np.sort(distances[:, -1])\n",
    "\n",
    "# Plotar o gráfico das distâncias\n",
    "plt.plot(distances)\n",
    "plt.xlabel('Pontos de dados')\n",
    "plt.ylabel('Distância do 20º vizinho mais próximo')\n",
    "plt.title('Gráfico de distâncias dos k-vizinhos mais próximos (sem \"avg_order_frequency\")')\n",
    "\n",
    "# Alterar os limites do eixo y para 0 a 160\n",
    "plt.ylim(0, 160)\n",
    "\n",
    "plt.show()\n"
   ]
  },
  {
   "cell_type": "code",
   "execution_count": 69,
   "metadata": {},
   "outputs": [
    {
     "ename": "NameError",
     "evalue": "name 'dbscan_labels' is not defined",
     "output_type": "error",
     "traceback": [
      "\u001b[0;31m---------------------------------------------------------------------------\u001b[0m",
      "\u001b[0;31mNameError\u001b[0m                                 Traceback (most recent call last)",
      "Cell \u001b[0;32mIn[69], line 2\u001b[0m\n\u001b[1;32m      1\u001b[0m \u001b[38;5;66;03m# Concatenating the labels to df\u001b[39;00m\n\u001b[0;32m----> 2\u001b[0m df_concat \u001b[38;5;241m=\u001b[39m pd\u001b[38;5;241m.\u001b[39mconcat([df[metric_features], pd\u001b[38;5;241m.\u001b[39mSeries(dbscan_labels, index\u001b[38;5;241m=\u001b[39mdf\u001b[38;5;241m.\u001b[39mindex, name\u001b[38;5;241m=\u001b[39m\u001b[38;5;124m\"\u001b[39m\u001b[38;5;124mdbscan_labels\u001b[39m\u001b[38;5;124m\"\u001b[39m)], axis\u001b[38;5;241m=\u001b[39m\u001b[38;5;241m1\u001b[39m)\n\u001b[1;32m      3\u001b[0m df_concat\u001b[38;5;241m.\u001b[39mhead()\n",
      "\u001b[0;31mNameError\u001b[0m: name 'dbscan_labels' is not defined"
     ]
    }
   ],
   "source": [
    "# Concatenating the labels to df\n",
    "df_concat = pd.concat([df[metric_features], pd.Series(dbscan_labels, index=df.index, name=\"dbscan_labels\")], axis=1)\n",
    "df_concat.head()"
   ]
  },
  {
   "cell_type": "code",
   "execution_count": 88,
   "metadata": {},
   "outputs": [
    {
     "name": "stdout",
     "output_type": "stream",
     "text": [
      "Number of estimated clusters : 8\n"
     ]
    }
   ],
   "source": [
    "# Excluir a feature \"total_value_cui\" ao selecionar as features para o clustering\n",
    "features_for_clustering = [feature for feature in metric_features if feature != \"avg_order_frequency\"]\n",
    "\n",
    "# Perform DBSCAN clustering\n",
    "dbscan = DBSCAN(eps=40, min_samples=25, n_jobs=4)\n",
    "dbscan_labels = dbscan.fit_predict(df[features_for_clustering])\n",
    "\n",
    "dbscan_n_clusters = len(np.unique(dbscan_labels))\n",
    "print(\"Number of estimated clusters : %d\" % dbscan_n_clusters)\n",
    "\n",
    "#usei o eps=40 por causa do grafico\n",
    "#usei min_samples=25 porque deve ser 2xdim e deve ser mais ou menos isso\n"
   ]
  },
  {
   "cell_type": "code",
   "execution_count": 89,
   "metadata": {},
   "outputs": [
    {
     "data": {
      "text/plain": [
       "array([-1,  0,  1,  2,  3,  4,  5,  6])"
      ]
     },
     "execution_count": 89,
     "metadata": {},
     "output_type": "execute_result"
    }
   ],
   "source": [
    "np.unique(dbscan_labels)\n"
   ]
  },
  {
   "cell_type": "code",
   "execution_count": null,
   "metadata": {},
   "outputs": [],
   "source": []
  }
 ],
 "metadata": {
  "kernelspec": {
   "display_name": "base",
   "language": "python",
   "name": "python3"
  },
  "language_info": {
   "codemirror_mode": {
    "name": "ipython",
    "version": 3
   },
   "file_extension": ".py",
   "mimetype": "text/x-python",
   "name": "python",
   "nbconvert_exporter": "python",
   "pygments_lexer": "ipython3",
   "version": "3.12.2"
  }
 },
 "nbformat": 4,
 "nbformat_minor": 2
}
