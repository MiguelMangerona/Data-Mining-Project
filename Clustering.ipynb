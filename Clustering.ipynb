{
 "cells": [
  {
   "cell_type": "markdown",
   "metadata": {},
   "source": [
    "# Clustering \n",
    "1. Hierarchical clustering\n",
    "2. K-means clustering\n",
    "3. DBScanner clustering"
   ]
  },
  {
   "cell_type": "markdown",
   "metadata": {},
   "source": [
    "#### Importing necessary libraries"
   ]
  },
  {
   "cell_type": "code",
   "execution_count": 3,
   "metadata": {},
   "outputs": [],
   "source": [
    "import pandas as pd\n",
    "import numpy as np\n",
    "from sklearn.preprocessing import StandardScaler\n",
    "from sklearn.cluster import AgglomerativeClustering\n",
    "from sklearn.metrics import silhouette_score\n",
    "from sklearn.cluster import MeanShift, DBSCAN, estimate_bandwidth #\n",
    "from sklearn.neighbors import NearestNeighbors #\n",
    "from sklearn.mixture import GaussianMixture #\n",
    "from scipy.cluster.hierarchy import dendrogram, linkage, fcluster\n",
    "import matplotlib.pyplot as plt\n",
    "import seaborn as sns \n",
    "from scipy.spatial.distance import pdist, squareform\n",
    "from collections import Counter\n",
    "import matplotlib.pyplot as plt\n"
   ]
  },
  {
   "cell_type": "code",
   "execution_count": 4,
   "metadata": {},
   "outputs": [],
   "source": [
    "df = pd.read_csv('Processed_Data.csv')"
   ]
  },
  {
   "cell_type": "code",
   "execution_count": null,
   "metadata": {},
   "outputs": [],
   "source": [
    "df.head(5)"
   ]
  },
  {
   "cell_type": "code",
   "execution_count": null,
   "metadata": {},
   "outputs": [],
   "source": [
    "cluster_features = ['vendor_count', 'is_chain', 'first_order', 'last_order', \n",
    "                                       'CUI_American', 'CUI_Asian', 'CUI_Beverages', 'CUI_Cafe',\n",
    "                                       'CUI_Chicken Dishes', 'CUI_Chinese', 'CUI_Desserts', \n",
    "                                       'CUI_Healthy', 'CUI_Indian', 'CUI_Italian', 'CUI_Japanese', \n",
    "                                       'CUI_Noodle Dishes', 'CUI_OTHER', 'CUI_Street Food / Snacks', \n",
    "                                       'CUI_Thai', 'engagement_duration', 'tot_value_cui', \n",
    "                                       'preferred_order_day', 'preferred_order_hour', \n",
    "                                       'age_category']\n",
    "\n",
    "print('cluster_features', cluster_features)"
   ]
  },
  {
   "cell_type": "code",
   "execution_count": null,
   "metadata": {},
   "outputs": [],
   "source": [
    "print(df[cluster_features].dtypes)"
   ]
  },
  {
   "cell_type": "markdown",
   "metadata": {},
   "source": [
    "With this we can confirm that all features features are numeric (`float64` and `int64`)"
   ]
  },
  {
   "cell_type": "code",
   "execution_count": null,
   "metadata": {},
   "outputs": [],
   "source": [
    "print(df.shape)  "
   ]
  },
  {
   "cell_type": "code",
   "execution_count": null,
   "metadata": {},
   "outputs": [],
   "source": [
    "print(cluster_features) "
   ]
  },
  {
   "cell_type": "markdown",
   "metadata": {},
   "source": [
    "### Hierarchical Clustering "
   ]
  },
  {
   "cell_type": "markdown",
   "metadata": {},
   "source": [
    "Linkage Matrix"
   ]
  },
  {
   "cell_type": "code",
   "execution_count": 8,
   "metadata": {},
   "outputs": [],
   "source": [
    "linkage_matrix = linkage(df[cluster_features].to_numpy(), method='ward')"
   ]
  },
  {
   "cell_type": "markdown",
   "metadata": {},
   "source": [
    "Dendrogram"
   ]
  },
  {
   "cell_type": "code",
   "execution_count": null,
   "metadata": {},
   "outputs": [],
   "source": [
    "plt.figure(figsize=(12, 8))\n",
    "dendrogram(\n",
    "    linkage_matrix,\n",
    "    truncate_mode='lastp',  \n",
    "    p=30, \n",
    "    leaf_rotation=90.,\n",
    "    leaf_font_size=12.,\n",
    "    show_contracted=True)\n",
    "\n",
    "plt.axhline(y=4000, color='r', linestyle='--') \n",
    "\n",
    "plt.title(\"Hierarchical Clustering Dendrogram\")\n",
    "plt.xlabel(\"Samples\")\n",
    "plt.ylabel(\"Distance\")\n",
    "plt.show()"
   ]
  },
  {
   "cell_type": "markdown",
   "metadata": {},
   "source": [
    "Number of clusters"
   ]
  },
  {
   "cell_type": "code",
   "execution_count": 10,
   "metadata": {},
   "outputs": [],
   "source": [
    "cluster_labels = fcluster(linkage_matrix, t=4000, criterion='distance')"
   ]
  },
  {
   "cell_type": "code",
   "execution_count": null,
   "metadata": {},
   "outputs": [],
   "source": [
    "df['Cluster'] = cluster_labels\n",
    "print(df['Cluster'].value_counts())"
   ]
  },
  {
   "cell_type": "markdown",
   "metadata": {},
   "source": [
    "##### 1. Dendrogram\n",
    "The dendrogram was generated using the **Ward's Linkage** method, which minimizes the variation within clusters. \n",
    "- The red line represents the **cut-off height** defined at `t=4000`.\n",
    "- This line determines the number of clusters by \"cutting\" the dendrogram.\n",
    "- The branches below the red line correspond to the formed clusters.\n",
    "\n",
    "##### 2. Clusters\n",
    "**5 clusters** were identified, with the following sizes:\n",
    "\n",
    "| Cluster | Number of Samples |\n",
    "|---------|--------------------|\n",
    "| 1       | 1080                |\n",
    "| 2       | 2882             |\n",
    "| 3       | 13865             |\n",
    "| 4       | 5885             |\n",
    "| 5       | 8163             |\n"
   ]
  },
  {
   "cell_type": "markdown",
   "metadata": {},
   "source": [
    "### Cluster Analysis: \n",
    "The following variables were analyzed across clusters:\n",
    "- `vendor_count`\n",
    "- `is_chain`\n",
    "- `first_order`\n",
    "- `last_order`\n",
    "- `engagement_duration`\n",
    "- `tot_value_cui`\n",
    "- `preferred_order_day`\n",
    "- `preferred_order_hour`\n",
    "- `age_category`\n",
    "\n",
    "This analysis focuses on identifying patterns and differences in these variables among the clusters."
   ]
  },
  {
   "cell_type": "code",
   "execution_count": null,
   "metadata": {},
   "outputs": [],
   "source": [
    "other_columns = [\n",
    "    'vendor_count', 'is_chain', 'first_order', 'last_order',\n",
    "    'engagement_duration', 'tot_value_cui', \n",
    "    'preferred_order_day', 'preferred_order_hour', 'age_category' ]\n",
    "\n",
    "other_analysis = cluster_analysis[other_columns]\n",
    "print(\"Analysis of Other Variables by Cluster:\")\n",
    "print(other_analysis)"
   ]
  },
  {
   "cell_type": "markdown",
   "metadata": {},
   "source": [
    "The following cuisine-related variables were analyzed across clusters:\n",
    "- `CUI_American`\n",
    "- `CUI_Asian`\n",
    "- `CUI_Beverages`\n",
    "- `CUI_Cafe`\n",
    "- `CUI_Chicken Dishes`\n",
    "- `CUI_Chinese`\n",
    "- `CUI_Healthy`\n",
    "- `CUI_Indian`\n",
    "- `CUI_Italian`\n",
    "- `CUI_Japanese`\n",
    "- `CUI_Noodle Dishes`\n",
    "- `CUI_OTHER`\n",
    "- `CUI_Street Food / Snacks`\n",
    "- `CUI_Thai`"
   ]
  },
  {
   "cell_type": "code",
   "execution_count": null,
   "metadata": {},
   "outputs": [],
   "source": [
    "cuisine_columns = [\n",
    "    'CUI_American', 'CUI_Asian', 'CUI_Beverages', 'CUI_Cafe',\n",
    "    'CUI_Chicken Dishes', 'CUI_Chinese', 'CUI_Healthy',\n",
    "    'CUI_Indian', 'CUI_Italian', 'CUI_Japanese', \n",
    "    'CUI_Noodle Dishes', 'CUI_OTHER', 'CUI_Street Food / Snacks', \n",
    "    'CUI_Thai']\n",
    "\n",
    "cuisine_analysis = cluster_analysis[cuisine_columns]\n",
    "print(\"Cuisine Analysis by Cluster:\")\n",
    "print(cuisine_analysis)"
   ]
  },
  {
   "cell_type": "markdown",
   "metadata": {},
   "source": [
    "#### Cluster Analysis Summary\n",
    "\n",
    "| **Cluster** | **Vendor Count** | **Is Chain** | **First Order** | **Last Order** | **Engagement Duration** | **Total Value** | **Preferred Order Day** | **Preferred Order Hour** | **Age Category** | **Top Cuisines**                | **Conclusion**                                                                 |\n",
    "|-------------|------------------|--------------|------------------|----------------|--------------------------|-----------------|--------------------------|--------------------------|------------------|----------------------------------|--------------------------------------------------------------------------------|\n",
    "| **1**       | 9.01             | 9.37         | 9.53             | 82.30          | 72.77                   | 210.05          | 2.73                     | 10.56                    | 29.12           | Asian, American, Snacks         | High-spending, loyal customers, mostly aged around 29 years, with high engagement, preferring Asian cuisine, snacks, and morning orders. |\n",
    "| **2**       | 5.91             | 5.74         | 12.46            | 80.56          | 68.10                   | 96.54           | 2.63                     | 10.10                    | 28.87           | Asian, American                 | Moderately spending customers, aged around 28 years, with steady engagement, preferring Asian and American cuisines and morning orders. |\n",
    "| **3**       | 3.54             | 3.32         | 19.79            | 72.54          | 52.75                   | 34.48           | 2.54                     | 11.53                    | 28.54           | Asian, American                 | Low-spending, moderately engaged customers, aged around 28 years, with delayed first orders, preferring Asian cuisine and mid-morning orders. |\n",
    "| **4**       | 1.66             | 1.16         | 66.83            | 74.95          | 8.11                    | 18.01           | 2.79                     | 11.71                    | 29.19           | Asian, American                 | Inactive customers, mostly aged around 29 years, with very low spending and engagement, preferring occasional Asian cuisine and late-morning orders. |\n",
    "| **5**       | 1.62             | 1.25         | 23.34            | 32.05          | 8.71                    | 16.12           | 2.83                     | 11.87                    | 28.62           | Asian, American                 | New or disengaged customers, aged around 28 years, with minimal spending and low engagement, preferring Asian cuisine and late-morning orders. |\n",
    "\n"
   ]
  },
  {
   "cell_type": "markdown",
   "metadata": {},
   "source": [
    "### 2. K-Means ###"
   ]
  },
  {
   "cell_type": "markdown",
   "metadata": {},
   "source": []
  },
  {
   "cell_type": "markdown",
   "metadata": {},
   "source": [
    "### 3. DBSCAN (Density-based spatial clustering of applications with noise)"
   ]
  },
  {
   "cell_type": "code",
   "execution_count": 3,
   "metadata": {},
   "outputs": [],
   "source": [
    "# Splitting feature names into groups\n",
    "# Remember which metric_features we decided to keep?\n",
    "metric_features = df.select_dtypes(include=['number']).columns.tolist()"
   ]
  },
  {
   "cell_type": "code",
   "execution_count": 4,
   "metadata": {},
   "outputs": [
    {
     "name": "stdout",
     "output_type": "stream",
     "text": [
      "metric_features: ['vendor_count', 'is_chain', 'first_order', 'last_order', 'CUI_American', 'CUI_Asian', 'CUI_Beverages', 'CUI_Cafe', 'CUI_Chicken Dishes', 'CUI_Chinese', 'CUI_Desserts', 'CUI_Healthy', 'CUI_Indian', 'CUI_Italian', 'CUI_Japanese', 'CUI_Noodle Dishes', 'CUI_OTHER', 'CUI_Street Food / Snacks', 'CUI_Thai', 'engagement_duration', 'tot_value_cui', 'preferred_order_day', 'preferred_order_hour', 'age_category']\n"
     ]
    }
   ],
   "source": [
    "print('metric_features:', metric_features)"
   ]
  },
  {
   "cell_type": "code",
   "execution_count": 5,
   "metadata": {},
   "outputs": [
    {
     "data": {
      "image/png": "[encoded data removed]",
      "text/plain": [
       "<Figure size 640x480 with 1 Axes>"
      ]
     },
     "metadata": {},
     "output_type": "display_data"
    }
   ],
   "source": [
    "features_for_distance = [feature for feature in metric_features]\n",
    "\n",
    "# Calcular as distâncias dos k-vizinhos mais próximos\n",
    "neigh = NearestNeighbors(n_neighbors=20)\n",
    "neigh.fit(df[features_for_distance])\n",
    "distances, _ = neigh.kneighbors(df[features_for_distance])\n",
    "\n",
    "# Ordenar as distâncias\n",
    "distances = np.sort(distances[:, -1])\n",
    "\n",
    "# Plotar o gráfico das distâncias\n",
    "plt.plot(distances)\n",
    "plt.xlabel('Pontos de dados')\n",
    "plt.ylabel('Distância do 20º vizinho mais próximo')\n",
    "plt.title('Gráfico de distâncias dos k-vizinhos mais próximos (sem \"avg_order_frequency\")')\n",
    "\n",
    "# Alterar os limites do eixo y para 0 a 160\n",
    "plt.ylim(0, 160)\n",
    "\n",
    "plt.show()\n"
   ]
  },
  {
   "cell_type": "code",
   "execution_count": 8,
   "metadata": {},
   "outputs": [
    {
     "name": "stdout",
     "output_type": "stream",
     "text": [
      "Number of estimated clusters : 2\n"
     ]
    }
   ],
   "source": [
    "# Perform DBSCAN clustering\n",
    "dbscan = DBSCAN(eps=30, min_samples=40, n_jobs=-1)\n",
    "dbscan_labels = dbscan.fit_predict(df[metric_features])\n",
    "\n",
    "dbscan_n_clusters = len(np.unique(dbscan_labels))\n",
    "print(\"Number of estimated clusters : %d\" % dbscan_n_clusters)\n",
    "\n",
    "#usei o eps=30 por causa do grafico\n",
    "#usei min_samples=10 para dar mais clusters \n",
    "# deve ser 2xdim e deve ser mais ou menos isso (24 x 2 = 48) mas assim so da 2\n"
   ]
  },
  {
   "cell_type": "code",
   "execution_count": 9,
   "metadata": {},
   "outputs": [
    {
     "data": {
      "text/html": [
       "<div>\n",
       "<style scoped>\n",
       "    .dataframe tbody tr th:only-of-type {\n",
       "        vertical-align: middle;\n",
       "    }\n",
       "\n",
       "    .dataframe tbody tr th {\n",
       "        vertical-align: top;\n",
       "    }\n",
       "\n",
       "    .dataframe thead th {\n",
       "        text-align: right;\n",
       "    }\n",
       "</style>\n",
       "<table border=\"1\" class=\"dataframe\">\n",
       "  <thead>\n",
       "    <tr style=\"text-align: right;\">\n",
       "      <th></th>\n",
       "      <th>vendor_count</th>\n",
       "      <th>is_chain</th>\n",
       "      <th>first_order</th>\n",
       "      <th>last_order</th>\n",
       "      <th>CUI_American</th>\n",
       "      <th>CUI_Asian</th>\n",
       "      <th>CUI_Beverages</th>\n",
       "      <th>CUI_Cafe</th>\n",
       "      <th>CUI_Chicken Dishes</th>\n",
       "      <th>CUI_Chinese</th>\n",
       "      <th>...</th>\n",
       "      <th>CUI_Noodle Dishes</th>\n",
       "      <th>CUI_OTHER</th>\n",
       "      <th>CUI_Street Food / Snacks</th>\n",
       "      <th>CUI_Thai</th>\n",
       "      <th>engagement_duration</th>\n",
       "      <th>tot_value_cui</th>\n",
       "      <th>preferred_order_day</th>\n",
       "      <th>preferred_order_hour</th>\n",
       "      <th>age_category</th>\n",
       "      <th>dbscan_labels</th>\n",
       "    </tr>\n",
       "  </thead>\n",
       "  <tbody>\n",
       "    <tr>\n",
       "      <th>0</th>\n",
       "      <td>2.0</td>\n",
       "      <td>1.0</td>\n",
       "      <td>0.0</td>\n",
       "      <td>1.0</td>\n",
       "      <td>0.00</td>\n",
       "      <td>0.00</td>\n",
       "      <td>0.0</td>\n",
       "      <td>0.0</td>\n",
       "      <td>0.0</td>\n",
       "      <td>0.0</td>\n",
       "      <td>...</td>\n",
       "      <td>0.0</td>\n",
       "      <td>0.0</td>\n",
       "      <td>0.0</td>\n",
       "      <td>0.0</td>\n",
       "      <td>1</td>\n",
       "      <td>28.88</td>\n",
       "      <td>0</td>\n",
       "      <td>18</td>\n",
       "      <td>26</td>\n",
       "      <td>0</td>\n",
       "    </tr>\n",
       "    <tr>\n",
       "      <th>1</th>\n",
       "      <td>2.0</td>\n",
       "      <td>2.0</td>\n",
       "      <td>0.0</td>\n",
       "      <td>1.0</td>\n",
       "      <td>12.82</td>\n",
       "      <td>6.39</td>\n",
       "      <td>0.0</td>\n",
       "      <td>0.0</td>\n",
       "      <td>0.0</td>\n",
       "      <td>0.0</td>\n",
       "      <td>...</td>\n",
       "      <td>0.0</td>\n",
       "      <td>0.0</td>\n",
       "      <td>0.0</td>\n",
       "      <td>0.0</td>\n",
       "      <td>1</td>\n",
       "      <td>19.21</td>\n",
       "      <td>0</td>\n",
       "      <td>10</td>\n",
       "      <td>16</td>\n",
       "      <td>0</td>\n",
       "    </tr>\n",
       "    <tr>\n",
       "      <th>2</th>\n",
       "      <td>1.0</td>\n",
       "      <td>2.0</td>\n",
       "      <td>0.0</td>\n",
       "      <td>1.0</td>\n",
       "      <td>9.20</td>\n",
       "      <td>0.00</td>\n",
       "      <td>0.0</td>\n",
       "      <td>0.0</td>\n",
       "      <td>0.0</td>\n",
       "      <td>0.0</td>\n",
       "      <td>...</td>\n",
       "      <td>0.0</td>\n",
       "      <td>0.0</td>\n",
       "      <td>0.0</td>\n",
       "      <td>0.0</td>\n",
       "      <td>1</td>\n",
       "      <td>9.20</td>\n",
       "      <td>0</td>\n",
       "      <td>9</td>\n",
       "      <td>42</td>\n",
       "      <td>0</td>\n",
       "    </tr>\n",
       "    <tr>\n",
       "      <th>3</th>\n",
       "      <td>2.0</td>\n",
       "      <td>1.0</td>\n",
       "      <td>0.0</td>\n",
       "      <td>2.0</td>\n",
       "      <td>0.00</td>\n",
       "      <td>13.70</td>\n",
       "      <td>0.0</td>\n",
       "      <td>0.0</td>\n",
       "      <td>0.0</td>\n",
       "      <td>0.0</td>\n",
       "      <td>...</td>\n",
       "      <td>0.0</td>\n",
       "      <td>0.0</td>\n",
       "      <td>0.0</td>\n",
       "      <td>0.0</td>\n",
       "      <td>2</td>\n",
       "      <td>31.56</td>\n",
       "      <td>1</td>\n",
       "      <td>11</td>\n",
       "      <td>26</td>\n",
       "      <td>0</td>\n",
       "    </tr>\n",
       "    <tr>\n",
       "      <th>4</th>\n",
       "      <td>2.0</td>\n",
       "      <td>0.0</td>\n",
       "      <td>0.0</td>\n",
       "      <td>2.0</td>\n",
       "      <td>14.57</td>\n",
       "      <td>40.87</td>\n",
       "      <td>0.0</td>\n",
       "      <td>0.0</td>\n",
       "      <td>0.0</td>\n",
       "      <td>0.0</td>\n",
       "      <td>...</td>\n",
       "      <td>0.0</td>\n",
       "      <td>0.0</td>\n",
       "      <td>0.0</td>\n",
       "      <td>0.0</td>\n",
       "      <td>2</td>\n",
       "      <td>55.44</td>\n",
       "      <td>1</td>\n",
       "      <td>8</td>\n",
       "      <td>26</td>\n",
       "      <td>0</td>\n",
       "    </tr>\n",
       "  </tbody>\n",
       "</table>\n",
       "<p>5 rows × 25 columns</p>\n",
       "</div>"
      ],
      "text/plain": [
       "   vendor_count  is_chain  first_order  last_order  CUI_American  CUI_Asian  \\\n",
       "0           2.0       1.0          0.0         1.0          0.00       0.00   \n",
       "1           2.0       2.0          0.0         1.0         12.82       6.39   \n",
       "2           1.0       2.0          0.0         1.0          9.20       0.00   \n",
       "3           2.0       1.0          0.0         2.0          0.00      13.70   \n",
       "4           2.0       0.0          0.0         2.0         14.57      40.87   \n",
       "\n",
       "   CUI_Beverages  CUI_Cafe  CUI_Chicken Dishes  CUI_Chinese  ...  \\\n",
       "0            0.0       0.0                 0.0          0.0  ...   \n",
       "1            0.0       0.0                 0.0          0.0  ...   \n",
       "2            0.0       0.0                 0.0          0.0  ...   \n",
       "3            0.0       0.0                 0.0          0.0  ...   \n",
       "4            0.0       0.0                 0.0          0.0  ...   \n",
       "\n",
       "   CUI_Noodle Dishes  CUI_OTHER  CUI_Street Food / Snacks  CUI_Thai  \\\n",
       "0                0.0        0.0                       0.0       0.0   \n",
       "1                0.0        0.0                       0.0       0.0   \n",
       "2                0.0        0.0                       0.0       0.0   \n",
       "3                0.0        0.0                       0.0       0.0   \n",
       "4                0.0        0.0                       0.0       0.0   \n",
       "\n",
       "   engagement_duration  tot_value_cui  preferred_order_day  \\\n",
       "0                    1          28.88                    0   \n",
       "1                    1          19.21                    0   \n",
       "2                    1           9.20                    0   \n",
       "3                    2          31.56                    1   \n",
       "4                    2          55.44                    1   \n",
       "\n",
       "   preferred_order_hour  age_category  dbscan_labels  \n",
       "0                    18            26              0  \n",
       "1                    10            16              0  \n",
       "2                     9            42              0  \n",
       "3                    11            26              0  \n",
       "4                     8            26              0  \n",
       "\n",
       "[5 rows x 25 columns]"
      ]
     },
     "execution_count": 9,
     "metadata": {},
     "output_type": "execute_result"
    }
   ],
   "source": [
    "# Concatenating the labels to df\n",
    "df_concat = pd.concat([df[metric_features], pd.Series(dbscan_labels, index=df.index, name=\"dbscan_labels\")], axis=1)\n",
    "df_concat.head()"
   ]
  },
  {
   "cell_type": "code",
   "execution_count": 10,
   "metadata": {},
   "outputs": [
    {
     "data": {
      "text/html": [
       "<div>\n",
       "<style scoped>\n",
       "    .dataframe tbody tr th:only-of-type {\n",
       "        vertical-align: middle;\n",
       "    }\n",
       "\n",
       "    .dataframe tbody tr th {\n",
       "        vertical-align: top;\n",
       "    }\n",
       "\n",
       "    .dataframe thead th {\n",
       "        text-align: right;\n",
       "    }\n",
       "</style>\n",
       "<table border=\"1\" class=\"dataframe\">\n",
       "  <thead>\n",
       "    <tr style=\"text-align: right;\">\n",
       "      <th></th>\n",
       "      <th>vendor_count</th>\n",
       "      <th>is_chain</th>\n",
       "      <th>first_order</th>\n",
       "      <th>last_order</th>\n",
       "      <th>CUI_American</th>\n",
       "      <th>CUI_Asian</th>\n",
       "      <th>CUI_Beverages</th>\n",
       "      <th>CUI_Cafe</th>\n",
       "      <th>CUI_Chicken Dishes</th>\n",
       "      <th>CUI_Chinese</th>\n",
       "      <th>...</th>\n",
       "      <th>CUI_Noodle Dishes</th>\n",
       "      <th>CUI_OTHER</th>\n",
       "      <th>CUI_Street Food / Snacks</th>\n",
       "      <th>CUI_Thai</th>\n",
       "      <th>engagement_duration</th>\n",
       "      <th>tot_value_cui</th>\n",
       "      <th>preferred_order_day</th>\n",
       "      <th>preferred_order_hour</th>\n",
       "      <th>age_category</th>\n",
       "      <th>dbscan_labels</th>\n",
       "    </tr>\n",
       "  </thead>\n",
       "  <tbody>\n",
       "    <tr>\n",
       "      <th>39</th>\n",
       "      <td>2.0</td>\n",
       "      <td>0.0</td>\n",
       "      <td>0.0</td>\n",
       "      <td>8.0</td>\n",
       "      <td>0.00</td>\n",
       "      <td>0.00</td>\n",
       "      <td>0.00</td>\n",
       "      <td>0.00</td>\n",
       "      <td>0.0</td>\n",
       "      <td>0.00</td>\n",
       "      <td>...</td>\n",
       "      <td>0.00</td>\n",
       "      <td>0.00</td>\n",
       "      <td>0.00</td>\n",
       "      <td>15.92</td>\n",
       "      <td>8</td>\n",
       "      <td>69.56</td>\n",
       "      <td>0</td>\n",
       "      <td>16</td>\n",
       "      <td>26</td>\n",
       "      <td>-1</td>\n",
       "    </tr>\n",
       "    <tr>\n",
       "      <th>55</th>\n",
       "      <td>5.0</td>\n",
       "      <td>1.0</td>\n",
       "      <td>0.0</td>\n",
       "      <td>13.0</td>\n",
       "      <td>0.00</td>\n",
       "      <td>56.16</td>\n",
       "      <td>0.00</td>\n",
       "      <td>0.00</td>\n",
       "      <td>0.0</td>\n",
       "      <td>0.00</td>\n",
       "      <td>...</td>\n",
       "      <td>0.00</td>\n",
       "      <td>0.00</td>\n",
       "      <td>24.56</td>\n",
       "      <td>0.00</td>\n",
       "      <td>13</td>\n",
       "      <td>80.72</td>\n",
       "      <td>0</td>\n",
       "      <td>11</td>\n",
       "      <td>16</td>\n",
       "      <td>-1</td>\n",
       "    </tr>\n",
       "    <tr>\n",
       "      <th>100</th>\n",
       "      <td>5.0</td>\n",
       "      <td>12.0</td>\n",
       "      <td>0.0</td>\n",
       "      <td>24.0</td>\n",
       "      <td>0.00</td>\n",
       "      <td>0.00</td>\n",
       "      <td>74.80</td>\n",
       "      <td>0.00</td>\n",
       "      <td>0.0</td>\n",
       "      <td>0.00</td>\n",
       "      <td>...</td>\n",
       "      <td>0.00</td>\n",
       "      <td>0.00</td>\n",
       "      <td>3.46</td>\n",
       "      <td>0.00</td>\n",
       "      <td>24</td>\n",
       "      <td>90.12</td>\n",
       "      <td>0</td>\n",
       "      <td>10</td>\n",
       "      <td>26</td>\n",
       "      <td>-1</td>\n",
       "    </tr>\n",
       "    <tr>\n",
       "      <th>104</th>\n",
       "      <td>7.0</td>\n",
       "      <td>12.0</td>\n",
       "      <td>0.0</td>\n",
       "      <td>25.0</td>\n",
       "      <td>0.00</td>\n",
       "      <td>0.00</td>\n",
       "      <td>27.09</td>\n",
       "      <td>2.23</td>\n",
       "      <td>0.0</td>\n",
       "      <td>58.94</td>\n",
       "      <td>...</td>\n",
       "      <td>0.00</td>\n",
       "      <td>3.04</td>\n",
       "      <td>0.00</td>\n",
       "      <td>0.00</td>\n",
       "      <td>25</td>\n",
       "      <td>96.93</td>\n",
       "      <td>0</td>\n",
       "      <td>12</td>\n",
       "      <td>26</td>\n",
       "      <td>-1</td>\n",
       "    </tr>\n",
       "    <tr>\n",
       "      <th>107</th>\n",
       "      <td>4.0</td>\n",
       "      <td>3.0</td>\n",
       "      <td>0.0</td>\n",
       "      <td>26.0</td>\n",
       "      <td>25.61</td>\n",
       "      <td>0.00</td>\n",
       "      <td>0.00</td>\n",
       "      <td>0.00</td>\n",
       "      <td>0.0</td>\n",
       "      <td>0.00</td>\n",
       "      <td>...</td>\n",
       "      <td>0.00</td>\n",
       "      <td>0.00</td>\n",
       "      <td>4.94</td>\n",
       "      <td>0.00</td>\n",
       "      <td>26</td>\n",
       "      <td>62.78</td>\n",
       "      <td>1</td>\n",
       "      <td>17</td>\n",
       "      <td>26</td>\n",
       "      <td>-1</td>\n",
       "    </tr>\n",
       "    <tr>\n",
       "      <th>...</th>\n",
       "      <td>...</td>\n",
       "      <td>...</td>\n",
       "      <td>...</td>\n",
       "      <td>...</td>\n",
       "      <td>...</td>\n",
       "      <td>...</td>\n",
       "      <td>...</td>\n",
       "      <td>...</td>\n",
       "      <td>...</td>\n",
       "      <td>...</td>\n",
       "      <td>...</td>\n",
       "      <td>...</td>\n",
       "      <td>...</td>\n",
       "      <td>...</td>\n",
       "      <td>...</td>\n",
       "      <td>...</td>\n",
       "      <td>...</td>\n",
       "      <td>...</td>\n",
       "      <td>...</td>\n",
       "      <td>...</td>\n",
       "      <td>...</td>\n",
       "    </tr>\n",
       "    <tr>\n",
       "      <th>30930</th>\n",
       "      <td>9.0</td>\n",
       "      <td>7.0</td>\n",
       "      <td>82.0</td>\n",
       "      <td>89.0</td>\n",
       "      <td>0.00</td>\n",
       "      <td>0.00</td>\n",
       "      <td>0.00</td>\n",
       "      <td>0.00</td>\n",
       "      <td>0.0</td>\n",
       "      <td>24.04</td>\n",
       "      <td>...</td>\n",
       "      <td>5.69</td>\n",
       "      <td>17.84</td>\n",
       "      <td>0.00</td>\n",
       "      <td>0.00</td>\n",
       "      <td>7</td>\n",
       "      <td>55.43</td>\n",
       "      <td>2</td>\n",
       "      <td>11</td>\n",
       "      <td>26</td>\n",
       "      <td>-1</td>\n",
       "    </tr>\n",
       "    <tr>\n",
       "      <th>31093</th>\n",
       "      <td>3.0</td>\n",
       "      <td>2.0</td>\n",
       "      <td>83.0</td>\n",
       "      <td>85.0</td>\n",
       "      <td>0.00</td>\n",
       "      <td>0.00</td>\n",
       "      <td>0.00</td>\n",
       "      <td>19.14</td>\n",
       "      <td>0.0</td>\n",
       "      <td>0.00</td>\n",
       "      <td>...</td>\n",
       "      <td>0.00</td>\n",
       "      <td>0.00</td>\n",
       "      <td>0.00</td>\n",
       "      <td>0.00</td>\n",
       "      <td>2</td>\n",
       "      <td>78.47</td>\n",
       "      <td>5</td>\n",
       "      <td>9</td>\n",
       "      <td>26</td>\n",
       "      <td>-1</td>\n",
       "    </tr>\n",
       "    <tr>\n",
       "      <th>31114</th>\n",
       "      <td>3.0</td>\n",
       "      <td>2.0</td>\n",
       "      <td>83.0</td>\n",
       "      <td>89.0</td>\n",
       "      <td>0.00</td>\n",
       "      <td>59.98</td>\n",
       "      <td>0.00</td>\n",
       "      <td>0.00</td>\n",
       "      <td>0.0</td>\n",
       "      <td>0.00</td>\n",
       "      <td>...</td>\n",
       "      <td>0.00</td>\n",
       "      <td>0.00</td>\n",
       "      <td>49.84</td>\n",
       "      <td>0.00</td>\n",
       "      <td>6</td>\n",
       "      <td>109.82</td>\n",
       "      <td>4</td>\n",
       "      <td>1</td>\n",
       "      <td>26</td>\n",
       "      <td>-1</td>\n",
       "    </tr>\n",
       "    <tr>\n",
       "      <th>31604</th>\n",
       "      <td>1.0</td>\n",
       "      <td>1.0</td>\n",
       "      <td>88.0</td>\n",
       "      <td>88.0</td>\n",
       "      <td>0.00</td>\n",
       "      <td>0.00</td>\n",
       "      <td>62.80</td>\n",
       "      <td>0.00</td>\n",
       "      <td>0.0</td>\n",
       "      <td>0.00</td>\n",
       "      <td>...</td>\n",
       "      <td>0.00</td>\n",
       "      <td>0.00</td>\n",
       "      <td>0.00</td>\n",
       "      <td>0.00</td>\n",
       "      <td>0</td>\n",
       "      <td>62.80</td>\n",
       "      <td>3</td>\n",
       "      <td>7</td>\n",
       "      <td>26</td>\n",
       "      <td>-1</td>\n",
       "    </tr>\n",
       "    <tr>\n",
       "      <th>31842</th>\n",
       "      <td>2.0</td>\n",
       "      <td>1.0</td>\n",
       "      <td>0.0</td>\n",
       "      <td>0.0</td>\n",
       "      <td>0.00</td>\n",
       "      <td>0.00</td>\n",
       "      <td>0.00</td>\n",
       "      <td>0.00</td>\n",
       "      <td>0.0</td>\n",
       "      <td>0.00</td>\n",
       "      <td>...</td>\n",
       "      <td>0.00</td>\n",
       "      <td>0.00</td>\n",
       "      <td>79.86</td>\n",
       "      <td>0.00</td>\n",
       "      <td>0</td>\n",
       "      <td>105.55</td>\n",
       "      <td>6</td>\n",
       "      <td>9</td>\n",
       "      <td>26</td>\n",
       "      <td>-1</td>\n",
       "    </tr>\n",
       "  </tbody>\n",
       "</table>\n",
       "<p>3184 rows × 25 columns</p>\n",
       "</div>"
      ],
      "text/plain": [
       "       vendor_count  is_chain  first_order  last_order  CUI_American  \\\n",
       "39              2.0       0.0          0.0         8.0          0.00   \n",
       "55              5.0       1.0          0.0        13.0          0.00   \n",
       "100             5.0      12.0          0.0        24.0          0.00   \n",
       "104             7.0      12.0          0.0        25.0          0.00   \n",
       "107             4.0       3.0          0.0        26.0         25.61   \n",
       "...             ...       ...          ...         ...           ...   \n",
       "30930           9.0       7.0         82.0        89.0          0.00   \n",
       "31093           3.0       2.0         83.0        85.0          0.00   \n",
       "31114           3.0       2.0         83.0        89.0          0.00   \n",
       "31604           1.0       1.0         88.0        88.0          0.00   \n",
       "31842           2.0       1.0          0.0         0.0          0.00   \n",
       "\n",
       "       CUI_Asian  CUI_Beverages  CUI_Cafe  CUI_Chicken Dishes  CUI_Chinese  \\\n",
       "39          0.00           0.00      0.00                 0.0         0.00   \n",
       "55         56.16           0.00      0.00                 0.0         0.00   \n",
       "100         0.00          74.80      0.00                 0.0         0.00   \n",
       "104         0.00          27.09      2.23                 0.0        58.94   \n",
       "107         0.00           0.00      0.00                 0.0         0.00   \n",
       "...          ...            ...       ...                 ...          ...   \n",
       "30930       0.00           0.00      0.00                 0.0        24.04   \n",
       "31093       0.00           0.00     19.14                 0.0         0.00   \n",
       "31114      59.98           0.00      0.00                 0.0         0.00   \n",
       "31604       0.00          62.80      0.00                 0.0         0.00   \n",
       "31842       0.00           0.00      0.00                 0.0         0.00   \n",
       "\n",
       "       ...  CUI_Noodle Dishes  CUI_OTHER  CUI_Street Food / Snacks  CUI_Thai  \\\n",
       "39     ...               0.00       0.00                      0.00     15.92   \n",
       "55     ...               0.00       0.00                     24.56      0.00   \n",
       "100    ...               0.00       0.00                      3.46      0.00   \n",
       "104    ...               0.00       3.04                      0.00      0.00   \n",
       "107    ...               0.00       0.00                      4.94      0.00   \n",
       "...    ...                ...        ...                       ...       ...   \n",
       "30930  ...               5.69      17.84                      0.00      0.00   \n",
       "31093  ...               0.00       0.00                      0.00      0.00   \n",
       "31114  ...               0.00       0.00                     49.84      0.00   \n",
       "31604  ...               0.00       0.00                      0.00      0.00   \n",
       "31842  ...               0.00       0.00                     79.86      0.00   \n",
       "\n",
       "       engagement_duration  tot_value_cui  preferred_order_day  \\\n",
       "39                       8          69.56                    0   \n",
       "55                      13          80.72                    0   \n",
       "100                     24          90.12                    0   \n",
       "104                     25          96.93                    0   \n",
       "107                     26          62.78                    1   \n",
       "...                    ...            ...                  ...   \n",
       "30930                    7          55.43                    2   \n",
       "31093                    2          78.47                    5   \n",
       "31114                    6         109.82                    4   \n",
       "31604                    0          62.80                    3   \n",
       "31842                    0         105.55                    6   \n",
       "\n",
       "       preferred_order_hour  age_category  dbscan_labels  \n",
       "39                       16            26             -1  \n",
       "55                       11            16             -1  \n",
       "100                      10            26             -1  \n",
       "104                      12            26             -1  \n",
       "107                      17            26             -1  \n",
       "...                     ...           ...            ...  \n",
       "30930                    11            26             -1  \n",
       "31093                     9            26             -1  \n",
       "31114                     1            26             -1  \n",
       "31604                     7            26             -1  \n",
       "31842                     9            26             -1  \n",
       "\n",
       "[3184 rows x 25 columns]"
      ]
     },
     "execution_count": 10,
     "metadata": {},
     "output_type": "execute_result"
    }
   ],
   "source": [
    "# Detecting noise (potential outliers)\n",
    "df_concat.loc[df_concat['dbscan_labels'] == -1]"
   ]
  },
  {
   "cell_type": "code",
   "execution_count": 11,
   "metadata": {},
   "outputs": [
    {
     "data": {
      "text/plain": [
       "array([-1,  0])"
      ]
     },
     "execution_count": 11,
     "metadata": {},
     "output_type": "execute_result"
    }
   ],
   "source": [
    "np.unique(dbscan_labels)\n"
   ]
  },
  {
   "cell_type": "code",
   "execution_count": 12,
   "metadata": {},
   "outputs": [
    {
     "data": {
      "image/png": "[encoded data removed]",
      "text/plain": [
       "<Figure size 1000x600 with 1 Axes>"
      ]
     },
     "metadata": {},
     "output_type": "display_data"
    }
   ],
   "source": [
    "# Visualizar os clusters em um gráfico 2D\n",
    "from sklearn.decomposition import PCA\n",
    "\n",
    "# Reduzir os dados a 2 dimensões para visualização\n",
    "pca = PCA(n_components=2)\n",
    "df_pca = pca.fit_transform(df[features_for_clustering])\n",
    "\n",
    "# Criar um DataFrame com as coordenadas PCA e os rótulos dos clusters\n",
    "df_plot = pd.DataFrame(df_pca, columns=['PCA1', 'PCA2'])\n",
    "df_plot['cluster'] = dbscan_labels\n",
    "\n",
    "# Plotar os clusters\n",
    "plt.figure(figsize=(10, 6))\n",
    "for cluster in np.unique(dbscan_labels):\n",
    "    cluster_points = df_plot[df_plot['cluster'] == cluster]\n",
    "    plt.scatter(cluster_points['PCA1'], cluster_points['PCA2'], label=f'Cluster {cluster}', alpha=0.6)\n",
    "\n",
    "plt.title('Visualização dos Clusters com DBSCAN')\n",
    "plt.xlabel('PCA1')\n",
    "plt.ylabel('PCA2')\n",
    "plt.legend()\n",
    "plt.show()\n"
   ]
  },
  {
   "cell_type": "code",
   "execution_count": 13,
   "metadata": {},
   "outputs": [
    {
     "data": {
      "text/plain": [
       "Counter({0: 28691, -1: 3184})"
      ]
     },
     "execution_count": 13,
     "metadata": {},
     "output_type": "execute_result"
    }
   ],
   "source": [
    "dbscan = DBSCAN(eps=30, min_samples=40, n_jobs=-1)\n",
    "dbscan_labels = dbscan.fit_predict(df[metric_features])\n",
    "Counter(dbscan_labels)"
   ]
  },
  {
   "cell_type": "code",
   "execution_count": 14,
   "metadata": {},
   "outputs": [],
   "source": [
    "# Save the newly detected outliers (they will be classified later based on the final clusters)\n",
    "df_out = df[dbscan_labels==-1].copy()\n",
    "\n",
    "# New df without outliers and 'rcn'\n",
    "df = df[dbscan_labels!=-1].copy()\n"
   ]
  },
  {
   "cell_type": "code",
   "execution_count": 15,
   "metadata": {},
   "outputs": [
    {
     "data": {
      "text/plain": [
       "((3184, 24), (28691, 24))"
      ]
     },
     "execution_count": 15,
     "metadata": {},
     "output_type": "execute_result"
    }
   ],
   "source": [
    "df_out.shape, df.shape"
   ]
  },
  {
   "cell_type": "markdown",
   "metadata": {},
   "source": [
    "## Mean Shift Clustering"
   ]
  },
  {
   "cell_type": "code",
   "execution_count": 29,
   "metadata": {},
   "outputs": [
    {
     "data": {
      "text/plain": [
       "57.5362677067515"
      ]
     },
     "execution_count": 29,
     "metadata": {},
     "output_type": "execute_result"
    }
   ],
   "source": [
    "bandwidth = estimate_bandwidth(df[metric_features], quantile=0.3, random_state=1, n_jobs=-1)\n",
    "bandwidth"
   ]
  },
  {
   "cell_type": "code",
   "execution_count": 30,
   "metadata": {},
   "outputs": [
    {
     "name": "stdout",
     "output_type": "stream",
     "text": [
      "Number of estimated clusters : 1\n"
     ]
    }
   ],
   "source": [
    "ms = MeanShift(bandwidth=bandwidth, bin_seeding=True, n_jobs=4)\n",
    "ms_labels = ms.fit_predict(df[metric_features])\n",
    "\n",
    "ms_n_clusters = len(np.unique(ms_labels))\n",
    "print(\"Number of estimated clusters : %d\" % ms_n_clusters)"
   ]
  },
  {
   "cell_type": "code",
   "execution_count": 7,
   "metadata": {},
   "outputs": [
    {
     "data": {
      "image/png": "[encoded data removed]",
      "text/plain": [
       "<Figure size 800x600 with 1 Axes>"
      ]
     },
     "metadata": {},
     "output_type": "display_data"
    }
   ],
   "source": [
    "import pandas as pd\n",
    "\n",
    "def plot_clusters(X):\n",
    "    \"\"\"\n",
    "    Plota os dados fornecidos para facilitar a identificação de clusters.\n",
    "\n",
    "    Parâmetros:\n",
    "    - X: array-like, forma (n_amostras, 2)\n",
    "        Dados com 2 dimensões para visualização.\n",
    "    \"\"\"\n",
    "    if X.shape[1] < 2:\n",
    "        raise ValueError(\"Os dados precisam ter pelo menos 2 dimensões para plotar.\")\n",
    "    \n",
    "    plt.figure(figsize=(8, 6))\n",
    "    plt.scatter(X[:, 0], X[:, 1], c='blue', alpha=0.9, edgecolors='k')\n",
    "    plt.title(\"Visualização de Clusters nos Dados\", fontsize=16)\n",
    "    plt.xlabel(\"Dimensão 1\", fontsize=12)\n",
    "    plt.ylabel(\"Dimensão 2\", fontsize=12)\n",
    "    plt.grid(True, linestyle=\"--\", alpha=0.5)\n",
    "    plt.show()\n",
    "\n",
    "\n",
    "# Carregar os dados de um arquivo CSV\n",
    "df = pd.read_csv('Processed_Data.csv')\n",
    "\n",
    "# Garantir que os dados estão no formato NumPy e selecionar as duas primeiras colunas\n",
    "X = df.iloc[:, :2].values  # Seleciona as duas primeiras colunas\n",
    "\n",
    "# Plotar os clusters\n",
    "plot_clusters(X)"
   ]
  },
  {
   "cell_type": "code",
   "execution_count": null,
   "metadata": {},
   "outputs": [],
   "source": []
  }
 ],
 "metadata": {
  "kernelspec": {
   "display_name": "base",
   "language": "python",
   "name": "python3"
  },
  "language_info": {
   "codemirror_mode": {
    "name": "ipython",
    "version": 3
   },
   "file_extension": ".py",
   "mimetype": "text/x-python",
   "name": "python",
   "nbconvert_exporter": "python",
   "pygments_lexer": "ipython3",
   "version": "3.12.4"
  }
 },
 "nbformat": 4,
 "nbformat_minor": 2
}
