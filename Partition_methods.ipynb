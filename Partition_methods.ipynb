{
 "cells": [
  {
   "cell_type": "markdown",
   "metadata": {},
   "source": [
    "## Partition methods (K-Means)"
   ]
  },
  {
   "cell_type": "code",
   "execution_count": 13,
   "metadata": {},
   "outputs": [],
   "source": [
    "import pandas as pd\n",
    "import numpy as np\n",
    "from sklearn.preprocessing import StandardScaler\n",
    "from sklearn.cluster import KMeans\n",
    "from sklearn.metrics import silhouette_score\n",
    "import matplotlib.pyplot as plt\n"
   ]
  },
  {
   "cell_type": "code",
   "execution_count": 14,
   "metadata": {},
   "outputs": [],
   "source": [
    "df = pd.read_csv('DM2425_ABCDEats_DATASET.csv')"
   ]
  },
  {
   "cell_type": "code",
   "execution_count": 19,
   "metadata": {},
   "outputs": [
    {
     "name": "stdout",
     "output_type": "stream",
     "text": [
      "customer_id                  object\n",
      "customer_region              object\n",
      "customer_age                float64\n",
      "vendor_count                  int64\n",
      "product_count                 int64\n",
      "is_chain                      int64\n",
      "first_order                 float64\n",
      "last_order                    int64\n",
      "last_promo                   object\n",
      "payment_method               object\n",
      "CUI_American                float64\n",
      "CUI_Asian                   float64\n",
      "CUI_Beverages               float64\n",
      "CUI_Cafe                    float64\n",
      "CUI_Chicken Dishes          float64\n",
      "CUI_Chinese                 float64\n",
      "CUI_Desserts                float64\n",
      "CUI_Healthy                 float64\n",
      "CUI_Indian                  float64\n",
      "CUI_Italian                 float64\n",
      "CUI_Japanese                float64\n",
      "CUI_Noodle Dishes           float64\n",
      "CUI_OTHER                   float64\n",
      "CUI_Street Food / Snacks    float64\n",
      "CUI_Thai                    float64\n",
      "DOW_0                         int64\n",
      "DOW_1                         int64\n",
      "DOW_2                         int64\n",
      "DOW_3                         int64\n",
      "DOW_4                         int64\n",
      "DOW_5                         int64\n",
      "DOW_6                         int64\n",
      "HR_0                        float64\n",
      "HR_1                          int64\n",
      "HR_2                          int64\n",
      "HR_3                          int64\n",
      "HR_4                          int64\n",
      "HR_5                          int64\n",
      "HR_6                          int64\n",
      "HR_7                          int64\n",
      "HR_8                          int64\n",
      "HR_9                          int64\n",
      "HR_10                         int64\n",
      "HR_11                         int64\n",
      "HR_12                         int64\n",
      "HR_13                         int64\n",
      "HR_14                         int64\n",
      "HR_15                         int64\n",
      "HR_16                         int64\n",
      "HR_17                         int64\n",
      "HR_18                         int64\n",
      "HR_19                         int64\n",
      "HR_20                         int64\n",
      "HR_21                         int64\n",
      "HR_22                         int64\n",
      "HR_23                         int64\n",
      "region_num                     int8\n",
      "payment_method_num             int8\n",
      "last_promo_binary             int64\n",
      "dtype: object\n"
     ]
    }
   ],
   "source": [
    "#check data type\n",
    "print(df.dtypes)"
   ]
  },
  {
   "cell_type": "code",
   "execution_count": 27,
   "metadata": {},
   "outputs": [
    {
     "name": "stdout",
     "output_type": "stream",
     "text": [
      "                customer_age  vendor_count  product_count  is_chain  \\\n",
      "Cluster_KMeans                                                        \n",
      "0                  27.526426      2.547963       4.266112  2.071377   \n",
      "1                  27.457234      1.904584       2.902155  1.485885   \n",
      "2                  27.538880      8.619949      18.960859  9.551768   \n",
      "\n",
      "                first_order  last_order  CUI_American  CUI_Asian  \\\n",
      "Cluster_KMeans                                                     \n",
      "0                 27.934115   64.208978      4.274121   8.613257   \n",
      "1                 37.562875   55.360720      2.824065   5.920362   \n",
      "2                  8.424242   81.995960     12.775419  26.182250   \n",
      "\n",
      "                CUI_Beverages  CUI_Cafe  ...     HR_18     HR_19     HR_20  \\\n",
      "Cluster_KMeans                           ...                                 \n",
      "0                    1.927139  0.429539  ...  0.242062  0.165531  0.092214   \n",
      "1                    1.533536  0.290355  ...  0.173530  0.123343  0.073156   \n",
      "2                    5.917028  3.769409  ...  1.177273  0.915657  0.547222   \n",
      "\n",
      "                   HR_21     HR_22     HR_23  region_num  payment_method_num  \\\n",
      "Cluster_KMeans                                                                 \n",
      "0               0.051039  0.034469  0.034248    4.716431            0.046107   \n",
      "1               0.036730  0.023981  0.022260    4.638976            1.565921   \n",
      "2               0.248737  0.171717  0.152273    3.685101            0.383838   \n",
      "\n",
      "                last_promo_binary  Cluster_KMeans  \n",
      "Cluster_KMeans                                     \n",
      "0                             1.0             0.0  \n",
      "1                             1.0             1.0  \n",
      "2                             1.0             2.0  \n",
      "\n",
      "[3 rows x 56 columns]\n"
     ]
    }
   ],
   "source": [
    "numeric_columns = df.select_dtypes(include=[np.number]).columns\n",
    "cluster_summary = df.groupby('Cluster_KMeans')[numeric_columns].mean()\n",
    "print(cluster_summary)\n"
   ]
  },
  {
   "cell_type": "code",
   "execution_count": 20,
   "metadata": {},
   "outputs": [],
   "source": [
    "#tranform categorical into numerical\n",
    "df['region_num'] = df['customer_region'].astype('category').cat.codes\n",
    "df['payment_method_num'] = df['payment_method'].astype('category').cat.codes\n",
    "df['last_promo_binary'] = (df['last_promo'].notnull()).astype(int)\n"
   ]
  },
  {
   "cell_type": "code",
   "execution_count": 30,
   "metadata": {},
   "outputs": [],
   "source": [
    "df = df.fillna(0)  # Replace NaN with 0 or another default value\n"
   ]
  },
  {
   "cell_type": "code",
   "execution_count": 21,
   "metadata": {},
   "outputs": [],
   "source": [
    "# Select numeric columns for clustering\n",
    "numerical_features = [\n",
    "    'customer_age', \n",
    "    'vendor_count', \n",
    "    'product_count', \n",
    "    'region_num', \n",
    "    'payment_method_num', \n",
    "    'last_promo_binary', \n",
    "    'first_order', \n",
    "    'last_order'\n",
    "]\n",
    "df_numerical = df[numerical_features]\n"
   ]
  },
  {
   "cell_type": "code",
   "execution_count": 22,
   "metadata": {},
   "outputs": [],
   "source": [
    "# Replace missing values with the mean\n",
    "df_numerical = df_numerical.fillna(df_numerical.mean())\n"
   ]
  },
  {
   "cell_type": "code",
   "execution_count": 23,
   "metadata": {},
   "outputs": [],
   "source": [
    "# Scale the data\n",
    "scaler = StandardScaler()\n",
    "X_scaled = scaler.fit_transform(df_numerical)\n"
   ]
  },
  {
   "cell_type": "code",
   "execution_count": 24,
   "metadata": {},
   "outputs": [
    {
     "data": {
      "image/png": "[encoded data removed]",
      "text/plain": [
       "<Figure size 640x480 with 1 Axes>"
      ]
     },
     "metadata": {},
     "output_type": "display_data"
    }
   ],
   "source": [
    "# Determine the optimal number of clusters\n",
    "distortions = []\n",
    "for k in range(2, 10):\n",
    "    kmeans = KMeans(n_clusters=k, random_state=42)\n",
    "    kmeans.fit(X_scaled)\n",
    "    distortions.append(kmeans.inertia_)\n",
    "\n",
    "# Plot the elbow method\n",
    "plt.plot(range(2, 10), distortions, marker='o')\n",
    "plt.title('Elbow Method')\n",
    "plt.xlabel('Number of Clusters')\n",
    "plt.ylabel('Inertia')\n",
    "plt.show()\n"
   ]
  },
  {
   "cell_type": "markdown",
   "metadata": {},
   "source": [
    "Look for the \"elbow\" in the graph to identify the optimal number of clusters."
   ]
  },
  {
   "cell_type": "markdown",
   "metadata": {},
   "source": [
    "### Aplly K-Means"
   ]
  },
  {
   "cell_type": "code",
   "execution_count": 25,
   "metadata": {},
   "outputs": [],
   "source": [
    "# Fit K-Means with the chosen number of clusters (e.g., 3)\n",
    "kmeans = KMeans(n_clusters=3, random_state=42)\n",
    "clusters_kmeans = kmeans.fit_predict(X_scaled)\n",
    "\n",
    "# Add the clusters to the original DataFrame\n",
    "df['Cluster_KMeans'] = clusters_kmeans\n"
   ]
  },
  {
   "cell_type": "code",
   "execution_count": 1,
   "metadata": {},
   "outputs": [
    {
     "ename": "SyntaxError",
     "evalue": "invalid syntax (2146513351.py, line 1)",
     "output_type": "error",
     "traceback": [
      "\u001b[0;36m  Cell \u001b[0;32mIn[1], line 1\u001b[0;36m\u001b[0m\n\u001b[0;31m    .....\u001b[0m\n\u001b[0m        ^\u001b[0m\n\u001b[0;31mSyntaxError\u001b[0m\u001b[0;31m:\u001b[0m invalid syntax\n"
     ]
    }
   ],
   "source": [
    "....."
   ]
  },
  {
   "cell_type": "code",
   "execution_count": null,
   "metadata": {},
   "outputs": [],
   "source": []
  }
 ],
 "metadata": {
  "kernelspec": {
   "display_name": "base",
   "language": "python",
   "name": "python3"
  },
  "language_info": {
   "codemirror_mode": {
    "name": "ipython",
    "version": 3
   },
   "file_extension": ".py",
   "mimetype": "text/x-python",
   "name": "python",
   "nbconvert_exporter": "python",
   "pygments_lexer": "ipython3",
   "version": "3.12.2"
  }
 },
 "nbformat": 4,
 "nbformat_minor": 2
}
